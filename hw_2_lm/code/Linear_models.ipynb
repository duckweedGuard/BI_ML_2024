{
 "cells": [
  {
   "cell_type": "markdown",
   "id": "88fe2596-8e7c-4c97-b347-7468994508f8",
   "metadata": {},
   "source": [
    "# Домашнее задание №2 - Линейные модели. Градиентный спуск"
   ]
  },
  {
   "cell_type": "markdown",
   "id": "44123a57-0d05-4714-8fec-f4f4c6d254e0",
   "metadata": {},
   "source": [
    "В этом домашнем задании мы с вами научимся обучать линейные модели регрессии и классификации при помощи очень мощного, но в то же время довольно понятного алгоритма, который называется **градиетный спуск**. Помимо линейных моделей он используется и для обучения самых сложных нейронных сетей! Также мы потренируемся применять готовые реализации линейных моделей для задач регрессии и бинарной классификации."
   ]
  },
  {
   "cell_type": "code",
   "execution_count": 1,
   "id": "a204ec7b-1f3c-439c-8a9e-0abbe270e696",
   "metadata": {},
   "outputs": [],
   "source": [
    "import numpy as np\n",
    "import matplotlib.pyplot as plt\n",
    "import numpy as np\n",
    "import seaborn as sns\n",
    "import random\n",
    "import pandas as pd\n",
    "\n",
    "from matplotlib import cm\n",
    "from mpl_toolkits.mplot3d import Axes3D\n",
    "from sklearn.exceptions import NotFittedError\n",
    "from sklearn.linear_model import (LinearRegression,\n",
    "                                  LogisticRegression)\n",
    "from sklearn.datasets import fetch_california_housing\n",
    "from sklearn.preprocessing import StandardScaler\n",
    "from sklearn.pipeline import Pipeline\n",
    "from sklearn.datasets import make_classification\n",
    "from sklearn.metrics import (r2_score,\n",
    "                             mean_squared_error,\n",
    "                            mean_absolute_error)\n",
    "from sklearn.model_selection import train_test_split"
   ]
  },
  {
   "cell_type": "code",
   "execution_count": 2,
   "id": "340f9411-bcff-4fae-a4a7-3c42361de2f4",
   "metadata": {},
   "outputs": [],
   "source": [
    "plt.rcParams[\"figure.figsize\"] = 12, 9\n",
    "sns.set_style(\"whitegrid\")\n",
    "\n",
    "SEED = 111\n",
    "random.seed(SEED)\n",
    "np.random.seed(SEED)"
   ]
  },
  {
   "cell_type": "markdown",
   "id": "585743eb-64a7-473e-832d-4e11ffb6ba87",
   "metadata": {},
   "source": [
    "#### Маленькое теоретическое отступление\n",
    "\n",
    "Основное свойство антиградиента (-1 * градиент) &ndash; он указывает в сторону наискорейшего убывания функции в данной точке. Соответственно, будет логично стартовать из некоторой точки, сдвинуться в сторону антиградиента, пересчитать антиградиент и снова сдвинуться в его сторону и т.д. Запишем это более формально.\n",
    "\n",
    "Пусть $w_0$ &ndash; начальный набор параметров (коэффициентов линейной модели) ((например, нулевой или сгенерированный из некоторого, случайного распределения)). Тогда обычный градиентный спуск состоит в повторении следующих шагов до сходимости:\n",
    "\n",
    "\n",
    "$$\n",
    "    w_{k + 1} = w_{k} - \\eta \\nabla_{w} Q(w_{k}),\n",
    "$$\n",
    "\n",
    "где $\\nabla_{w} Q(w_{k})$ &ndash; градиент функции потерь в точке $w_k$, а $\\eta$ &ndash; скорость обучения (learning rate).\n",
    "\n",
    "Градиентный спуск обычно останавливают, когда прошло заданное максимальное количество итераций или когда графиент близок к нулю (т.е. наши параметры практически не меняются). Для реализации второго варианта считают норму градиента (по сути длину вектора). Это можно сделать несколькими способами:\n",
    "\n",
    "$$\n",
    "l1_{norm} = \\sum{|w_i|}\n",
    "$$\n",
    "\n",
    "$$\n",
    "l2_{norm} = \\sum{(w_i)^{2}}\n",
    "$$\n",
    "\n",
    "Попробуем разобраться на простом примере. Рассмотрим функцию от двух переменных:\n",
    "$f(x, y) = \\sin^2 x + \\sin^2 y$"
   ]
  },
  {
   "cell_type": "code",
   "execution_count": 3,
   "id": "cb249259-87ef-456f-a904-402b90c82521",
   "metadata": {},
   "outputs": [],
   "source": [
    "def f(w):\n",
    "    \"\"\"\n",
    "    :param w: np.array(np.float) вектор из 2-х элементов\n",
    "    :return: np.float\n",
    "    \"\"\"\n",
    "    \n",
    "    return np.sum(np.sin(w)**2)"
   ]
  },
  {
   "cell_type": "markdown",
   "id": "115abe74-2f98-4a02-858b-2693dec08355",
   "metadata": {},
   "source": [
    "Обратите внимание, что $x$ - numpy-array вектор длины 2."
   ]
  },
  {
   "cell_type": "markdown",
   "id": "635ed65b-4e40-4924-924b-54253bb8c6d9",
   "metadata": {},
   "source": [
    "***Reminder:***  \n",
    "Что мы хотим? Мы хотим найти минимум этой функции (в машинном обучении мы обычно хотим найти минимум **функции потерь**, например, MSE), а точнее найти $w_1$ и $w_2$ такие, что при них значение $f(w_1, w_2)$ минимально, то есть *точку экстремума*.  \n",
    "  \n",
    "Как мы будем искать эту точку? Используем методы оптимизации (в нашем случае - *минимизации*). Одним из таких методов и является **градиентный спуск**."
   ]
  },
  {
   "cell_type": "markdown",
   "id": "27c32299-e7e3-4600-bf00-064d197f6864",
   "metadata": {},
   "source": [
    "### Задание 1. Градиентный спуск для функции $f$ (1 балл)"
   ]
  },
  {
   "cell_type": "markdown",
   "id": "c2262d3e-8f6f-4921-af13-e74e4c4e6bbb",
   "metadata": {},
   "source": [
    "Реализуйте функцию, которая будет осуществлять градиентный спуск для функции $f$:\n",
    "\n",
    "*Примечание:* Вам нужно посчитать частные производные именно **аналитически** и **переписать их в код**, а не считать производные численно (через отношение приращения функции к приращению аргумента) -- в этих двух случаях могут различаться ответы, поэтому будьте внимательны."
   ]
  },
  {
   "cell_type": "code",
   "execution_count": 4,
   "id": "aa083d99-7a02-4b6e-8548-9c9ebee381c7",
   "metadata": {},
   "outputs": [],
   "source": [
    "def grad_f(w): \n",
    "    \"\"\"\n",
    "    Градиент функциии f, определенной выше.\n",
    "        :param w: np.array[2]: float вектор из 2-х элементов\n",
    "        :return: np.array[2]: float вектор из 2-х элементов\n",
    "    \"\"\"\n",
    "    \n",
    "    return np.sin(w) * np.cos(w) * 2"
   ]
  },
  {
   "cell_type": "markdown",
   "id": "9d184304-6bbd-4626-93c1-56e62fc9f343",
   "metadata": {},
   "source": [
    "Проверим, что градиент принимает вектор из двух чисел и выдает на этой точке верное значение"
   ]
  },
  {
   "cell_type": "code",
   "execution_count": 5,
   "id": "29698da3-07ca-45f6-baff-dd49c82db8c8",
   "metadata": {},
   "outputs": [],
   "source": [
    "assert np.allclose(grad_f(np.array([1, 2])), \n",
    "                   np.array([0.90929743, -0.7568025])), \"Что-то не так!\""
   ]
  },
  {
   "cell_type": "code",
   "execution_count": 6,
   "id": "0088604b-1d75-4d83-bda8-0d08e909c2cb",
   "metadata": {},
   "outputs": [],
   "source": [
    "def grad_descent_2d(f, grad_f, lr, num_iter=100, x0=None):\n",
    "    \"\"\"\n",
    "    Функция, которая реализует градиентный спуск в минимум для функции f от двух переменных. \n",
    "        :param f: скалярная функция двух переменных\n",
    "        :param grad_f: функция, возвращающая градиент функции f (устроена как реализованная вами выше grad_f)\n",
    "        :param lr: learning rate алгоритма\n",
    "        :param num_iter: количество итераций градиентного спуска\n",
    "        :return: np.array[num_iter, 2] пар вида (x, f(x))\n",
    "    \"\"\"\n",
    "    \n",
    "    w0 = np.random.random(2)\n",
    "\n",
    "    # будем сохранять значения аргументов и значений функции \n",
    "    # в процессе град. спуска в переменную history\n",
    "    history = []\n",
    "\n",
    "    # итерация цикла == шаг градиентнго спуска\n",
    "    curr_w = w0.copy()\n",
    "    for iter_num in range(num_iter):\n",
    "        entry = np.hstack((curr_w, f(curr_w)))\n",
    "        history.append(entry)\n",
    "    \n",
    "        curr_w -= lr * grad_f(curr_w)\n",
    "\n",
    "    return np.vstack(history)"
   ]
  },
  {
   "cell_type": "markdown",
   "id": "01ec67a6-4bac-4d6f-808d-6551cf7a32b4",
   "metadata": {},
   "source": [
    "Визуализируем точки градиентного спуска на 3D-графике нашей функции. Звездочками будут обозначены точки (тройки $w_1, w_2, f(w_1, w_2)$), по которым Ваш алгоритм градиентного спуска двигался к минимуму (Для того, чтобы написовать этот график, мы и сохраняли значения $cur\\_w_1, cur\\_w_2, f(cur\\_w_1, cur\\_w_2)$ в `steps` в процессе спуска).\n",
    "\n",
    "Если у Вас правильно написана функция `grad_descent_2d`, то звездочки на картинке должны сходиться к одной из точек минимума функции. Вы можете менять начальные приближения алгоритма, значения `lr` и `num_iter` и получать разные результаты."
   ]
  },
  {
   "cell_type": "code",
   "execution_count": 7,
   "id": "67bda638-aa89-4e33-a4cd-bfd52a3178e7",
   "metadata": {},
   "outputs": [],
   "source": [
    "def gradient_desc_vis(f, grad_f, lr=0.1, num_iter=20):\n",
    "    steps = grad_descent_2d(f, grad_f, lr=lr, num_iter=num_iter)\n",
    "    \n",
    "    X, Y = np.meshgrid(np.linspace(-3, 3, 100), np.linspace(-3, 3, 100))\n",
    "\n",
    "    fig = plt.figure(figsize=(16, 10))\n",
    "    ax = fig.add_subplot(projection=\"3d\")\n",
    "\n",
    "    zs = np.array([f(np.array([x,y]))\n",
    "                  for x, y in zip(np.ravel(X), np.ravel(Y))])\n",
    "    Z = zs.reshape(X.shape)\n",
    "\n",
    "\n",
    "    ax.plot_surface(X, Y, Z, cmap=cm.coolwarm, zorder=2)\n",
    "\n",
    "    ax.plot(xs=steps[:, 0], ys=steps[:, 1], zs=steps[:, 2],\n",
    "            marker=\"*\", markersize=20, zorder=3, \n",
    "            markerfacecolor=\"y\", lw=3, c=\"black\")\n",
    "\n",
    "    ax.set_zlim(0, 5)\n",
    "    ax.view_init(elev=60)\n",
    "    plt.show()\n",
    "    \n",
    "    return steps"
   ]
  },
  {
   "cell_type": "code",
   "execution_count": 8,
   "id": "6d61bf52-070a-49af-b6a1-20f8777cd99b",
   "metadata": {},
   "outputs": [
    {
     "data": {
      "image/png": "[encoded data removed]",
      "text/plain": [
       "<Figure size 1152x720 with 1 Axes>"
      ]
     },
     "metadata": {},
     "output_type": "display_data"
    }
   ],
   "source": [
    "steps = gradient_desc_vis(f, grad_f)"
   ]
  },
  {
   "cell_type": "markdown",
   "id": "9926b095-f101-4a0d-b480-e5b1e98e082e",
   "metadata": {},
   "source": [
    "Посмотрим на зависимость значения функции от шага градиентного спуска."
   ]
  },
  {
   "cell_type": "code",
   "execution_count": 9,
   "id": "502f4b3e-bce5-42d8-a91b-34c7591bf830",
   "metadata": {},
   "outputs": [
    {
     "data": {
      "image/png": "[encoded data removed]",
      "text/plain": [
       "<Figure size 1008x504 with 1 Axes>"
      ]
     },
     "metadata": {},
     "output_type": "display_data"
    }
   ],
   "source": [
    "plt.figure(figsize=(14,7))\n",
    "plt.xlabel(\"grad descent step number\")\n",
    "plt.ylabel(\"$f(x)$\")\n",
    "plt.title(\"Значение функции на каждом шаге гардиентного спуска.\")\n",
    "\n",
    "f_values = list(map(lambda x: x[2], steps))\n",
    "plt.plot(f_values, label=\"gradient descent result\")\n",
    "plt.legend();"
   ]
  },
  {
   "cell_type": "markdown",
   "id": "b861f39c-8850-42db-9e9f-23e96652c376",
   "metadata": {},
   "source": [
    "### Задание 2. Реализация линейной регресии (суммарно 9 баллов)"
   ]
  },
  {
   "cell_type": "markdown",
   "id": "357ad605-faf2-4a3a-9d6f-aad2f6a452d4",
   "metadata": {},
   "source": [
    "Так как мы будем использовать градиентный спуск для обучения модели, важной часть является реализация функции потерь и функции для расчета ее градиента. Перем началом стоит напомнить, как считать градиент MSE. Вывод этой формулы можно найти  [здесь](https://medium.com/analytics-vidhya/linear-regression-gradient-descent-intuition-and-math-c9a8f5aeeb22)\n",
    "\n",
    "$$\n",
    "    MSE = \\frac{1}{N}\\sum(y_{true} - y_{pred}) ^ 2\n",
    "$$\n",
    "\n",
    "$$\n",
    "    \\nabla{MSE} = \\frac{2}{N} X^T (y_{pred} - y_{true})\n",
    "$$\n",
    "\n",
    "Здесь имеется в виду именно матричное умножение."
   ]
  },
  {
   "cell_type": "markdown",
   "id": "b008e5f3-f2d8-4807-812f-ca2d8b3a5bc5",
   "metadata": {},
   "source": [
    "#### Задание 2.1. MSE и ее градиент (2 балла)"
   ]
  },
  {
   "cell_type": "code",
   "execution_count": 10,
   "id": "d96e3cf7-2c6c-4572-a5d8-add05e952bf7",
   "metadata": {},
   "outputs": [],
   "source": [
    "def mse(y_true, y_pred):\n",
    "    \"\"\"\n",
    "    Функция потерь MSE.\n",
    "        :param y_true: np.array[n_samples]: вектор из правильных ответов\n",
    "        :param y_pred: np.array[n_samples]: вектор из предсказаний модели\n",
    "        :return: значение функции потерь\n",
    "    \"\"\"\n",
    "    \n",
    "    if  y_true.shape[0] != y_pred.shape[0]:\n",
    "        raise ValueError(\"Number of samples in both vectors should be equal\")\n",
    "        \n",
    "    return np.mean((np.square(y_true - y_pred)))\n",
    "\n",
    "\n",
    "def mse_grad(y_true, y_pred, X):\n",
    "    \"\"\"\n",
    "    Функция для расчета градиента MSE.\n",
    "        :param y_true: np.array[n_samples]: вектор из правильных ответов\n",
    "        :param y_pred: np.array[n_samples]: вектор из предсказаний модели\n",
    "        :param X: np.array[n_samples, n_features]: матрица объекты x признаки\n",
    "        :return: градиент функции потерь MSE\n",
    "    \"\"\"\n",
    "    \n",
    "    if  y_true.shape[0] != y_pred.shape[0]:\n",
    "        raise ValueError(\"Number of samples in both vectors should be equal\")\n",
    "        \n",
    "    return (X.T @ (y_pred - y_true)) * (2 / y_true.shape[0])\n",
    "\n",
    "\n",
    "class MSELoss:\n",
    "    \"\"\"\n",
    "    Класс, реализующий функцию потерь MSE. Нужен для того, чтобы\n",
    "    объединять в одном месте функцию потерь и градиент для нее.\n",
    "    \"\"\"\n",
    "    \n",
    "    def __call__(self, y_true, y_pred):\n",
    "        return mse(y_true, y_pred)\n",
    "    \n",
    "    def calculate_gradient(self, y_true, y_pred, X):\n",
    "        return mse_grad(y_true, y_pred, X)"
   ]
  },
  {
   "cell_type": "markdown",
   "id": "1f7728e2-91bb-4925-9ebd-066f51a45a3b",
   "metadata": {},
   "source": [
    "Мы будем использовать следующий класс для расчета градиента наших функций потерь:"
   ]
  },
  {
   "cell_type": "code",
   "execution_count": 11,
   "id": "de02bf42-aa5e-473e-811d-d0f203228c8e",
   "metadata": {},
   "outputs": [],
   "source": [
    "class BasicGradientDescent:\n",
    "    \"\"\"\n",
    "    Класс, позволяющий делать шаги градиентного спуска,\n",
    "    а также рассчитывающих норму градиента.\n",
    "    \"\"\"\n",
    "    \n",
    "    def __init__(self, loss_function, grad_norm):\n",
    "        self.loss = loss_function\n",
    "        self.grad_norm = grad_norm\n",
    "        \n",
    "    \n",
    "    def step(self, y, y_pred, X):\n",
    "        grad_i = self.loss.calculate_gradient(y, y_pred, X)\n",
    "        grad_i_norm = self._calculate_grad_norm(grad_i)\n",
    "        \n",
    "        return grad_i, grad_i_norm\n",
    "            \n",
    "            \n",
    "    def _calculate_grad_norm(self, grad_i):\n",
    "        if self.grad_norm == \"l1\":\n",
    "            return np.abs(grad_i).sum()\n",
    "        elif self.grad_norm == \"l2\":\n",
    "            return np.sqrt(np.square(grad_i).sum())\n",
    "        else:\n",
    "            raise ValueError(f\"I can't calculate {self.grad_norm} norm of gradient\")"
   ]
  },
  {
   "cell_type": "markdown",
   "id": "d9efeb62-1226-4816-ad30-856ca0ac7dcb",
   "metadata": {},
   "source": [
    "В данном задании нужно будет реализовать линейную регрессию и обучить ее при помощи градиентного спуска. Для этого нужно будет заполнять пропуски кода в соответствующих классах. Для начала мы реализуем базовый класс для всех линейных моделей, от которого потом будем наследоваться при реализации линейной и логистической регресий. Не переживайте, этот класс уже реализован, вам достостаточно просто разобраться с кодом."
   ]
  },
  {
   "cell_type": "code",
   "execution_count": 12,
   "id": "a064fe6a-9ffa-4cb2-8418-b9a0d4c21b0b",
   "metadata": {},
   "outputs": [],
   "source": [
    "class BaseLinearModel:\n",
    "    \"\"\"\n",
    "    Класс, который представляет из себя базовую линейную модель, наследуюясь от которого, мы будем\n",
    "    реализовывать линейную и логистическую регрессии.\n",
    "    \"\"\"\n",
    "    \n",
    "    def __init__(self, learning_rate, \n",
    "                 loss_function, fit_intercept,\n",
    "                 n_iter, tol, optimizer, grad_norm):\n",
    "        \"\"\"\n",
    "        Конструктор нашего класса. \n",
    "            :param learning_rate: скорость обучения\n",
    "            :param loss_function: функция потерь (MSE или кросс-энтропия)\n",
    "            :param fit_intercept: нужно ли нам включать свободных член в модель\n",
    "            :param n_iter: количество итераций градиентного спуска\n",
    "            :param tol: параметр для остановки градиентного спуска,\n",
    "                        если норма градиента (l1 или l2) меньше tol, то останавливаемся\n",
    "            :param optimizer: класс, который будет рассчитывать градиент и его норму\n",
    "            :param grad_norm: тип нормы градиента l1 или l2\n",
    "        \"\"\"\n",
    "        \n",
    "        self.learning_rate = learning_rate\n",
    "        self.loss = loss_function\n",
    "        self.fit_intercept = fit_intercept\n",
    "        self.n_iter = n_iter\n",
    "        self.tol = tol\n",
    "        self.grad_norm = grad_norm\n",
    "        self.optimizer = optimizer(loss_function, grad_norm)\n",
    "        \n",
    "        # В начале параметры модели не заданы\n",
    "        self.W = None\n",
    "        \n",
    "        \n",
    "    def fit(self, X, y):\n",
    "        \"\"\"\n",
    "        Метод для обучения нашей модели \n",
    "            :param X: матрица объекты x признаки\n",
    "            :param y: вектор значений целевой переменной\n",
    "            :return: обученная модель\n",
    "        \"\"\"\n",
    "        \n",
    "        # Сделаем из y вектор-столбец (n_samples, 1)\n",
    "        y = y.reshape(-1, 1)\n",
    "        n_samples = X.shape[0]\n",
    "        \n",
    "        # Добавим колонку из 1 в матрицу X\n",
    "        if self.fit_intercept:\n",
    "            ones_column = np.ones((n_samples, 1))\n",
    "            X_new = np.hstack((ones_column, X))\n",
    "        \n",
    "        n_features = X_new.shape[1]\n",
    "        \n",
    "        # Инициализируем веса модели\n",
    "        if self.W is None:\n",
    "            self.W = np.random.randn(n_features, 1)\n",
    "        \n",
    "        # Обучаем модель градиентным спуском\n",
    "        for i in range(self.n_iter):\n",
    "            y_pred = self.predict(X)\n",
    "            grad_i, grad_i_norm = self.optimizer.step(y, y_pred, X_new)\n",
    "            \n",
    "            # Если градиент близок к 0, останавливаемся\n",
    "            if grad_i_norm <= self.tol:\n",
    "                return self\n",
    "            \n",
    "            else:\n",
    "                self.W -= self.learning_rate * grad_i\n",
    "        \n",
    "        return self\n",
    "    \n",
    "    \n",
    "    def predict(self, X):\n",
    "        raise NotImplementedError(\"It is a basic class for all linear models. You should implement it for descendant class.\")\n",
    "    \n",
    "    \n",
    "    def __repr__(self):\n",
    "        return \"Base linear model without prediction skill :(\""
   ]
  },
  {
   "cell_type": "markdown",
   "id": "a07f9ba2-ea51-4bd1-a809-cb3d725cb633",
   "metadata": {},
   "source": [
    "#### Задание 2.2. Предсказания линейной регрессии (3 балла)\n",
    "\n",
    "Реализуйте метод `predict` у класса `CustomLinearRegression`, не забудьте про свободный член!"
   ]
  },
  {
   "cell_type": "code",
   "execution_count": 13,
   "id": "57bf7176-1acf-42ec-9689-d8667ba49ce6",
   "metadata": {},
   "outputs": [],
   "source": [
    "class CustomLinearRegression(BaseLinearModel):\n",
    "    def __init__(self, learning_rate: float = 1e-2, \n",
    "                 loss_function=MSELoss(), fit_intercept=True,\n",
    "                 n_iter=1000, tol=1e-5, optimizer=BasicGradientDescent, grad_norm=\"l1\"):\n",
    "        \n",
    "        # Если вы не проходили наследование и в частности `super`, то не страшно\n",
    "        # коротко, с помощью этого мы можем вызывать методы родительского класса\n",
    "        # в частности здесь мы используем метод `init`\n",
    "        super().__init__(learning_rate=learning_rate, \n",
    "                         loss_function=loss_function, fit_intercept=fit_intercept,\n",
    "                         n_iter=n_iter, tol=tol, optimizer=optimizer, grad_norm=grad_norm)\n",
    "        \n",
    "    \n",
    "    def predict(self, X_test):\n",
    "        \"\"\"\n",
    "        Метод для вычисления предсказаний \n",
    "            :param X_test: np.array[n_test_samples, n_features]: \n",
    "                           матрица объекты x признаки (тестовый датасет)\n",
    "            :return: y_pred: np.array[n_test_samples, 1]: предсказания модели\n",
    "        \"\"\"\n",
    "        \n",
    "        if self.W is None:\n",
    "            raise NotFittedError(\"This CustomLinearRegression instance is not fitted yet, run fit method.\")\n",
    "        \n",
    "        n_test_samples = X_test.shape[0]\n",
    "        if self.fit_intercept:\n",
    "            ones_column = np.ones((n_test_samples, 1))\n",
    "            X_test = np.hstack((ones_column, X_test))\n",
    "            \n",
    "        return X_test @ self.W\n",
    "            \n",
    "    \n",
    "    def __repr__(self):\n",
    "        return \"My custom linear regression\""
   ]
  },
  {
   "cell_type": "markdown",
   "id": "a20d6bd1-9d65-4e54-b817-a64358a9dfee",
   "metadata": {},
   "source": [
    "##### Проверим нашу реализацию на простом примере"
   ]
  },
  {
   "cell_type": "code",
   "execution_count": 14,
   "id": "e35eaf43-d38f-40d6-b901-b7daa2741dcc",
   "metadata": {},
   "outputs": [],
   "source": [
    "X = np.random.randn(100, 1)\n",
    "y = 2 * X + 5 + 0.5 * np.random.randn(100, 1)"
   ]
  },
  {
   "cell_type": "code",
   "execution_count": 15,
   "id": "f3c2603a-85a5-4ae1-8c1d-0174680e80c1",
   "metadata": {},
   "outputs": [
    {
     "data": {
      "image/png": "[encoded data removed]",
      "text/plain": [
       "<Figure size 864x648 with 1 Axes>"
      ]
     },
     "metadata": {},
     "output_type": "display_data"
    }
   ],
   "source": [
    "plt.scatter(X, y);"
   ]
  },
  {
   "cell_type": "code",
   "execution_count": 16,
   "id": "0e126a10-449d-4d6a-b752-986e9b8bab88",
   "metadata": {},
   "outputs": [],
   "source": [
    "custom_lin_reg = CustomLinearRegression()"
   ]
  },
  {
   "cell_type": "code",
   "execution_count": 17,
   "id": "ae63e50e-4ae6-4fc0-8121-03758417e233",
   "metadata": {},
   "outputs": [
    {
     "data": {
      "text/plain": [
       "My custom linear regression"
      ]
     },
     "execution_count": 17,
     "metadata": {},
     "output_type": "execute_result"
    }
   ],
   "source": [
    "custom_lin_reg.fit(X, y)"
   ]
  },
  {
   "cell_type": "code",
   "execution_count": 18,
   "id": "19d9394a-d9d4-40d0-b772-208d4953cb9b",
   "metadata": {},
   "outputs": [
    {
     "data": {
      "image/png": "[encoded data removed]",
      "text/plain": [
       "<Figure size 864x648 with 1 Axes>"
      ]
     },
     "metadata": {},
     "output_type": "display_data"
    }
   ],
   "source": [
    "plt.scatter(X, y)\n",
    "plt.plot(X, custom_lin_reg.predict(X), color=\"tab:cyan\", alpha=1);"
   ]
  },
  {
   "cell_type": "markdown",
   "id": "3ad4bf18-9a5d-4409-b04b-dba080f9ab73",
   "metadata": {},
   "source": [
    "#### Задание 2.3. Используем встроенную линейную регрессию (4 балла)\n",
    "\n",
    "Поработаем с данными о ценах на дома в Калифорнии. Постройте модель линейной регресии при помощи `LinearRegression` из `sklearn`. Не забудьте разделить данные на тренировочную и тестовую части, а также правильно предобработать признаки. В конце воспользуйтесь какими-то изученными метриками регресии и сделайте выводы о качестве полученной модели, а также о том, какие признаки наиболее важны с точки зрения полученной модели."
   ]
  },
  {
   "cell_type": "code",
   "execution_count": 19,
   "id": "e160cf48-e9ad-4866-aaf0-77429002065f",
   "metadata": {},
   "outputs": [],
   "source": [
    "data = fetch_california_housing()\n",
    "X, y = data[\"data\"], data[\"target\"]\n",
    "feature_names = data[\"feature_names\"]"
   ]
  },
  {
   "cell_type": "markdown",
   "id": "36099aea-e9c1-4e76-a3c0-bb6f9b8f24ca",
   "metadata": {},
   "source": [
    "Ваш ход:"
   ]
  },
  {
   "cell_type": "code",
   "execution_count": 20,
   "id": "92ea784d-41a9-45ac-9c75-7307c207020b",
   "metadata": {},
   "outputs": [
    {
     "data": {
      "text/html": [
       "<div>\n",
       "<style scoped>\n",
       "    .dataframe tbody tr th:only-of-type {\n",
       "        vertical-align: middle;\n",
       "    }\n",
       "\n",
       "    .dataframe tbody tr th {\n",
       "        vertical-align: top;\n",
       "    }\n",
       "\n",
       "    .dataframe thead th {\n",
       "        text-align: right;\n",
       "    }\n",
       "</style>\n",
       "<table border=\"1\" class=\"dataframe\">\n",
       "  <thead>\n",
       "    <tr style=\"text-align: right;\">\n",
       "      <th></th>\n",
       "      <th>MedInc</th>\n",
       "      <th>HouseAge</th>\n",
       "      <th>AveRooms</th>\n",
       "      <th>AveBedrms</th>\n",
       "      <th>Population</th>\n",
       "      <th>AveOccup</th>\n",
       "      <th>Latitude</th>\n",
       "      <th>Longitude</th>\n",
       "    </tr>\n",
       "  </thead>\n",
       "  <tbody>\n",
       "    <tr>\n",
       "      <th>0</th>\n",
       "      <td>8.3252</td>\n",
       "      <td>41.0</td>\n",
       "      <td>6.984127</td>\n",
       "      <td>1.023810</td>\n",
       "      <td>322.0</td>\n",
       "      <td>2.555556</td>\n",
       "      <td>37.88</td>\n",
       "      <td>-122.23</td>\n",
       "    </tr>\n",
       "    <tr>\n",
       "      <th>1</th>\n",
       "      <td>8.3014</td>\n",
       "      <td>21.0</td>\n",
       "      <td>6.238137</td>\n",
       "      <td>0.971880</td>\n",
       "      <td>2401.0</td>\n",
       "      <td>2.109842</td>\n",
       "      <td>37.86</td>\n",
       "      <td>-122.22</td>\n",
       "    </tr>\n",
       "    <tr>\n",
       "      <th>2</th>\n",
       "      <td>7.2574</td>\n",
       "      <td>52.0</td>\n",
       "      <td>8.288136</td>\n",
       "      <td>1.073446</td>\n",
       "      <td>496.0</td>\n",
       "      <td>2.802260</td>\n",
       "      <td>37.85</td>\n",
       "      <td>-122.24</td>\n",
       "    </tr>\n",
       "    <tr>\n",
       "      <th>3</th>\n",
       "      <td>5.6431</td>\n",
       "      <td>52.0</td>\n",
       "      <td>5.817352</td>\n",
       "      <td>1.073059</td>\n",
       "      <td>558.0</td>\n",
       "      <td>2.547945</td>\n",
       "      <td>37.85</td>\n",
       "      <td>-122.25</td>\n",
       "    </tr>\n",
       "    <tr>\n",
       "      <th>4</th>\n",
       "      <td>3.8462</td>\n",
       "      <td>52.0</td>\n",
       "      <td>6.281853</td>\n",
       "      <td>1.081081</td>\n",
       "      <td>565.0</td>\n",
       "      <td>2.181467</td>\n",
       "      <td>37.85</td>\n",
       "      <td>-122.25</td>\n",
       "    </tr>\n",
       "  </tbody>\n",
       "</table>\n",
       "</div>"
      ],
      "text/plain": [
       "   MedInc  HouseAge  AveRooms  AveBedrms  Population  AveOccup  Latitude  \\\n",
       "0  8.3252      41.0  6.984127   1.023810       322.0  2.555556     37.88   \n",
       "1  8.3014      21.0  6.238137   0.971880      2401.0  2.109842     37.86   \n",
       "2  7.2574      52.0  8.288136   1.073446       496.0  2.802260     37.85   \n",
       "3  5.6431      52.0  5.817352   1.073059       558.0  2.547945     37.85   \n",
       "4  3.8462      52.0  6.281853   1.081081       565.0  2.181467     37.85   \n",
       "\n",
       "   Longitude  \n",
       "0    -122.23  \n",
       "1    -122.22  \n",
       "2    -122.24  \n",
       "3    -122.25  \n",
       "4    -122.25  "
      ]
     },
     "execution_count": 20,
     "metadata": {},
     "output_type": "execute_result"
    }
   ],
   "source": [
    "X = pd.DataFrame(X, columns=feature_names)\n",
    "X.head()"
   ]
  },
  {
   "cell_type": "code",
   "execution_count": 21,
   "id": "a6a0ffb4",
   "metadata": {},
   "outputs": [
    {
     "data": {
      "text/plain": [
       "array([4.526, 3.585, 3.521, ..., 0.923, 0.847, 0.894])"
      ]
     },
     "execution_count": 21,
     "metadata": {},
     "output_type": "execute_result"
    }
   ],
   "source": [
    "y"
   ]
  },
  {
   "cell_type": "markdown",
   "id": "fad85b43",
   "metadata": {},
   "source": [
    "Небольшое описание колонок датасета:\n",
    "* MedInc медианный доход группы участков\n",
    "* HouseAge медианный возраст дома для блока группы\n",
    "* AveRooms среднее количество комнат на домохозяйство\n",
    "* AveBedrms среднее количество спален на домохозяйство\n",
    "* Population население блок группы\n",
    "* AveOccup среднее количество членов домохозяйства\n",
    "* Latitude широта\n",
    "* Longitude долгота\n",
    "\n",
    "Целевая переменная (он же y) - медианная стоимость дома для районов Калифорнии ($100 000)"
   ]
  },
  {
   "cell_type": "code",
   "execution_count": 22,
   "id": "d061715f",
   "metadata": {},
   "outputs": [
    {
     "name": "stdout",
     "output_type": "stream",
     "text": [
      "<class 'pandas.core.frame.DataFrame'>\n",
      "RangeIndex: 20640 entries, 0 to 20639\n",
      "Data columns (total 8 columns):\n",
      " #   Column      Non-Null Count  Dtype  \n",
      "---  ------      --------------  -----  \n",
      " 0   MedInc      20640 non-null  float64\n",
      " 1   HouseAge    20640 non-null  float64\n",
      " 2   AveRooms    20640 non-null  float64\n",
      " 3   AveBedrms   20640 non-null  float64\n",
      " 4   Population  20640 non-null  float64\n",
      " 5   AveOccup    20640 non-null  float64\n",
      " 6   Latitude    20640 non-null  float64\n",
      " 7   Longitude   20640 non-null  float64\n",
      "dtypes: float64(8)\n",
      "memory usage: 1.3 MB\n"
     ]
    }
   ],
   "source": [
    "X.info()"
   ]
  },
  {
   "cell_type": "markdown",
   "id": "f1725387",
   "metadata": {},
   "source": [
    "Все переменные - числа, так что нет необходимости что-либо переводить.\n",
    "Теперь посмотрим на описательные статистики, чтобы понять стоит ли стандартизировать данные."
   ]
  },
  {
   "cell_type": "code",
   "execution_count": 23,
   "id": "418c44df",
   "metadata": {},
   "outputs": [
    {
     "data": {
      "text/html": [
       "<div>\n",
       "<style scoped>\n",
       "    .dataframe tbody tr th:only-of-type {\n",
       "        vertical-align: middle;\n",
       "    }\n",
       "\n",
       "    .dataframe tbody tr th {\n",
       "        vertical-align: top;\n",
       "    }\n",
       "\n",
       "    .dataframe thead th {\n",
       "        text-align: right;\n",
       "    }\n",
       "</style>\n",
       "<table border=\"1\" class=\"dataframe\">\n",
       "  <thead>\n",
       "    <tr style=\"text-align: right;\">\n",
       "      <th></th>\n",
       "      <th>MedInc</th>\n",
       "      <th>HouseAge</th>\n",
       "      <th>AveRooms</th>\n",
       "      <th>AveBedrms</th>\n",
       "      <th>Population</th>\n",
       "      <th>AveOccup</th>\n",
       "      <th>Latitude</th>\n",
       "      <th>Longitude</th>\n",
       "    </tr>\n",
       "  </thead>\n",
       "  <tbody>\n",
       "    <tr>\n",
       "      <th>count</th>\n",
       "      <td>20640.000000</td>\n",
       "      <td>20640.000000</td>\n",
       "      <td>20640.000000</td>\n",
       "      <td>20640.000000</td>\n",
       "      <td>20640.000000</td>\n",
       "      <td>20640.000000</td>\n",
       "      <td>20640.000000</td>\n",
       "      <td>20640.000000</td>\n",
       "    </tr>\n",
       "    <tr>\n",
       "      <th>mean</th>\n",
       "      <td>3.870671</td>\n",
       "      <td>28.639486</td>\n",
       "      <td>5.429000</td>\n",
       "      <td>1.096675</td>\n",
       "      <td>1425.476744</td>\n",
       "      <td>3.070655</td>\n",
       "      <td>35.631861</td>\n",
       "      <td>-119.569704</td>\n",
       "    </tr>\n",
       "    <tr>\n",
       "      <th>std</th>\n",
       "      <td>1.899822</td>\n",
       "      <td>12.585558</td>\n",
       "      <td>2.474173</td>\n",
       "      <td>0.473911</td>\n",
       "      <td>1132.462122</td>\n",
       "      <td>10.386050</td>\n",
       "      <td>2.135952</td>\n",
       "      <td>2.003532</td>\n",
       "    </tr>\n",
       "    <tr>\n",
       "      <th>min</th>\n",
       "      <td>0.499900</td>\n",
       "      <td>1.000000</td>\n",
       "      <td>0.846154</td>\n",
       "      <td>0.333333</td>\n",
       "      <td>3.000000</td>\n",
       "      <td>0.692308</td>\n",
       "      <td>32.540000</td>\n",
       "      <td>-124.350000</td>\n",
       "    </tr>\n",
       "    <tr>\n",
       "      <th>25%</th>\n",
       "      <td>2.563400</td>\n",
       "      <td>18.000000</td>\n",
       "      <td>4.440716</td>\n",
       "      <td>1.006079</td>\n",
       "      <td>787.000000</td>\n",
       "      <td>2.429741</td>\n",
       "      <td>33.930000</td>\n",
       "      <td>-121.800000</td>\n",
       "    </tr>\n",
       "    <tr>\n",
       "      <th>50%</th>\n",
       "      <td>3.534800</td>\n",
       "      <td>29.000000</td>\n",
       "      <td>5.229129</td>\n",
       "      <td>1.048780</td>\n",
       "      <td>1166.000000</td>\n",
       "      <td>2.818116</td>\n",
       "      <td>34.260000</td>\n",
       "      <td>-118.490000</td>\n",
       "    </tr>\n",
       "    <tr>\n",
       "      <th>75%</th>\n",
       "      <td>4.743250</td>\n",
       "      <td>37.000000</td>\n",
       "      <td>6.052381</td>\n",
       "      <td>1.099526</td>\n",
       "      <td>1725.000000</td>\n",
       "      <td>3.282261</td>\n",
       "      <td>37.710000</td>\n",
       "      <td>-118.010000</td>\n",
       "    </tr>\n",
       "    <tr>\n",
       "      <th>max</th>\n",
       "      <td>15.000100</td>\n",
       "      <td>52.000000</td>\n",
       "      <td>141.909091</td>\n",
       "      <td>34.066667</td>\n",
       "      <td>35682.000000</td>\n",
       "      <td>1243.333333</td>\n",
       "      <td>41.950000</td>\n",
       "      <td>-114.310000</td>\n",
       "    </tr>\n",
       "  </tbody>\n",
       "</table>\n",
       "</div>"
      ],
      "text/plain": [
       "             MedInc      HouseAge      AveRooms     AveBedrms    Population  \\\n",
       "count  20640.000000  20640.000000  20640.000000  20640.000000  20640.000000   \n",
       "mean       3.870671     28.639486      5.429000      1.096675   1425.476744   \n",
       "std        1.899822     12.585558      2.474173      0.473911   1132.462122   \n",
       "min        0.499900      1.000000      0.846154      0.333333      3.000000   \n",
       "25%        2.563400     18.000000      4.440716      1.006079    787.000000   \n",
       "50%        3.534800     29.000000      5.229129      1.048780   1166.000000   \n",
       "75%        4.743250     37.000000      6.052381      1.099526   1725.000000   \n",
       "max       15.000100     52.000000    141.909091     34.066667  35682.000000   \n",
       "\n",
       "           AveOccup      Latitude     Longitude  \n",
       "count  20640.000000  20640.000000  20640.000000  \n",
       "mean       3.070655     35.631861   -119.569704  \n",
       "std       10.386050      2.135952      2.003532  \n",
       "min        0.692308     32.540000   -124.350000  \n",
       "25%        2.429741     33.930000   -121.800000  \n",
       "50%        2.818116     34.260000   -118.490000  \n",
       "75%        3.282261     37.710000   -118.010000  \n",
       "max     1243.333333     41.950000   -114.310000  "
      ]
     },
     "execution_count": 23,
     "metadata": {},
     "output_type": "execute_result"
    }
   ],
   "source": [
    "X.describe()"
   ]
  },
  {
   "cell_type": "markdown",
   "id": "2b812998",
   "metadata": {},
   "source": [
    "Стандартизация необходима (средние сильно отличаются). Теперь посмотрим на NA значения:"
   ]
  },
  {
   "cell_type": "code",
   "execution_count": 24,
   "id": "addaedde",
   "metadata": {},
   "outputs": [
    {
     "data": {
      "text/plain": [
       "MedInc        0\n",
       "HouseAge      0\n",
       "AveRooms      0\n",
       "AveBedrms     0\n",
       "Population    0\n",
       "AveOccup      0\n",
       "Latitude      0\n",
       "Longitude     0\n",
       "dtype: int64"
      ]
     },
     "execution_count": 24,
     "metadata": {},
     "output_type": "execute_result"
    }
   ],
   "source": [
    "X.isna().sum()"
   ]
  },
  {
   "cell_type": "markdown",
   "id": "322c4b77",
   "metadata": {},
   "source": [
    "Отлично, у нас нет NA. Также отберем предикторы, посмотрев на их корреляцию между собой и уберем по одному из пар сильно коррелирующих (либо отрицательно, либо положительно)."
   ]
  },
  {
   "cell_type": "code",
   "execution_count": 25,
   "id": "e6fdeaca",
   "metadata": {},
   "outputs": [
    {
     "data": {
      "text/html": [
       "<div>\n",
       "<style scoped>\n",
       "    .dataframe tbody tr th:only-of-type {\n",
       "        vertical-align: middle;\n",
       "    }\n",
       "\n",
       "    .dataframe tbody tr th {\n",
       "        vertical-align: top;\n",
       "    }\n",
       "\n",
       "    .dataframe thead th {\n",
       "        text-align: right;\n",
       "    }\n",
       "</style>\n",
       "<table border=\"1\" class=\"dataframe\">\n",
       "  <thead>\n",
       "    <tr style=\"text-align: right;\">\n",
       "      <th></th>\n",
       "      <th>MedInc</th>\n",
       "      <th>HouseAge</th>\n",
       "      <th>AveRooms</th>\n",
       "      <th>AveBedrms</th>\n",
       "      <th>Population</th>\n",
       "      <th>AveOccup</th>\n",
       "      <th>Latitude</th>\n",
       "      <th>Longitude</th>\n",
       "    </tr>\n",
       "  </thead>\n",
       "  <tbody>\n",
       "    <tr>\n",
       "      <th>MedInc</th>\n",
       "      <td>1.000000</td>\n",
       "      <td>-0.119034</td>\n",
       "      <td>0.326895</td>\n",
       "      <td>-0.062040</td>\n",
       "      <td>0.004834</td>\n",
       "      <td>0.018766</td>\n",
       "      <td>-0.079809</td>\n",
       "      <td>-0.015176</td>\n",
       "    </tr>\n",
       "    <tr>\n",
       "      <th>HouseAge</th>\n",
       "      <td>-0.119034</td>\n",
       "      <td>1.000000</td>\n",
       "      <td>-0.153277</td>\n",
       "      <td>-0.077747</td>\n",
       "      <td>-0.296244</td>\n",
       "      <td>0.013191</td>\n",
       "      <td>0.011173</td>\n",
       "      <td>-0.108197</td>\n",
       "    </tr>\n",
       "    <tr>\n",
       "      <th>AveRooms</th>\n",
       "      <td>0.326895</td>\n",
       "      <td>-0.153277</td>\n",
       "      <td>1.000000</td>\n",
       "      <td>0.847621</td>\n",
       "      <td>-0.072213</td>\n",
       "      <td>-0.004852</td>\n",
       "      <td>0.106389</td>\n",
       "      <td>-0.027540</td>\n",
       "    </tr>\n",
       "    <tr>\n",
       "      <th>AveBedrms</th>\n",
       "      <td>-0.062040</td>\n",
       "      <td>-0.077747</td>\n",
       "      <td>0.847621</td>\n",
       "      <td>1.000000</td>\n",
       "      <td>-0.066197</td>\n",
       "      <td>-0.006181</td>\n",
       "      <td>0.069721</td>\n",
       "      <td>0.013344</td>\n",
       "    </tr>\n",
       "    <tr>\n",
       "      <th>Population</th>\n",
       "      <td>0.004834</td>\n",
       "      <td>-0.296244</td>\n",
       "      <td>-0.072213</td>\n",
       "      <td>-0.066197</td>\n",
       "      <td>1.000000</td>\n",
       "      <td>0.069863</td>\n",
       "      <td>-0.108785</td>\n",
       "      <td>0.099773</td>\n",
       "    </tr>\n",
       "    <tr>\n",
       "      <th>AveOccup</th>\n",
       "      <td>0.018766</td>\n",
       "      <td>0.013191</td>\n",
       "      <td>-0.004852</td>\n",
       "      <td>-0.006181</td>\n",
       "      <td>0.069863</td>\n",
       "      <td>1.000000</td>\n",
       "      <td>0.002366</td>\n",
       "      <td>0.002476</td>\n",
       "    </tr>\n",
       "    <tr>\n",
       "      <th>Latitude</th>\n",
       "      <td>-0.079809</td>\n",
       "      <td>0.011173</td>\n",
       "      <td>0.106389</td>\n",
       "      <td>0.069721</td>\n",
       "      <td>-0.108785</td>\n",
       "      <td>0.002366</td>\n",
       "      <td>1.000000</td>\n",
       "      <td>-0.924664</td>\n",
       "    </tr>\n",
       "    <tr>\n",
       "      <th>Longitude</th>\n",
       "      <td>-0.015176</td>\n",
       "      <td>-0.108197</td>\n",
       "      <td>-0.027540</td>\n",
       "      <td>0.013344</td>\n",
       "      <td>0.099773</td>\n",
       "      <td>0.002476</td>\n",
       "      <td>-0.924664</td>\n",
       "      <td>1.000000</td>\n",
       "    </tr>\n",
       "  </tbody>\n",
       "</table>\n",
       "</div>"
      ],
      "text/plain": [
       "              MedInc  HouseAge  AveRooms  AveBedrms  Population  AveOccup  \\\n",
       "MedInc      1.000000 -0.119034  0.326895  -0.062040    0.004834  0.018766   \n",
       "HouseAge   -0.119034  1.000000 -0.153277  -0.077747   -0.296244  0.013191   \n",
       "AveRooms    0.326895 -0.153277  1.000000   0.847621   -0.072213 -0.004852   \n",
       "AveBedrms  -0.062040 -0.077747  0.847621   1.000000   -0.066197 -0.006181   \n",
       "Population  0.004834 -0.296244 -0.072213  -0.066197    1.000000  0.069863   \n",
       "AveOccup    0.018766  0.013191 -0.004852  -0.006181    0.069863  1.000000   \n",
       "Latitude   -0.079809  0.011173  0.106389   0.069721   -0.108785  0.002366   \n",
       "Longitude  -0.015176 -0.108197 -0.027540   0.013344    0.099773  0.002476   \n",
       "\n",
       "            Latitude  Longitude  \n",
       "MedInc     -0.079809  -0.015176  \n",
       "HouseAge    0.011173  -0.108197  \n",
       "AveRooms    0.106389  -0.027540  \n",
       "AveBedrms   0.069721   0.013344  \n",
       "Population -0.108785   0.099773  \n",
       "AveOccup    0.002366   0.002476  \n",
       "Latitude    1.000000  -0.924664  \n",
       "Longitude  -0.924664   1.000000  "
      ]
     },
     "execution_count": 25,
     "metadata": {},
     "output_type": "execute_result"
    }
   ],
   "source": [
    "X.corr()"
   ]
  },
  {
   "cell_type": "markdown",
   "id": "21c86b79",
   "metadata": {},
   "source": [
    "Заметна сильная отрицательная взаимосвязь (-0.924664) между переменными Latitude и Longitudе, веротяно из-за географии штата, откуда взяты данные. Также существует сильная положительная (0.847621) - между AveRooms и AveBedrmsсредним - что логично, количество комнат и спален в доме взаимосвязаны.\n",
    "Уберем Longitude и AveBedrms:"
   ]
  },
  {
   "cell_type": "code",
   "execution_count": 26,
   "id": "e5c57f81",
   "metadata": {},
   "outputs": [],
   "source": [
    "X = X.drop(['Longitude', 'AveBedrms'], axis=1)"
   ]
  },
  {
   "cell_type": "markdown",
   "id": "83b807e7",
   "metadata": {},
   "source": [
    "Стандартизуем данные, используем sci-kit learn Standard scaler (! Не забудем перед этим поделить данные на train, test):"
   ]
  },
  {
   "cell_type": "code",
   "execution_count": 27,
   "id": "34ff80be",
   "metadata": {},
   "outputs": [],
   "source": [
    "X_train, X_test, y_train, y_test = train_test_split(X, y, random_state=SEED, test_size=0.2)"
   ]
  },
  {
   "cell_type": "code",
   "execution_count": 28,
   "id": "96dd63c3",
   "metadata": {},
   "outputs": [],
   "source": [
    "scaler = StandardScaler()  \n",
    "scaler.fit(X_train)\n",
    "X_train = scaler.transform(X_train)\n",
    "X_test = scaler.transform(X_test)"
   ]
  },
  {
   "cell_type": "code",
   "execution_count": 29,
   "id": "5ddad710",
   "metadata": {},
   "outputs": [],
   "source": [
    "linear_regression = LinearRegression()\n",
    "linear_regression.fit(X_train, y_train)\n",
    "y_pred = linear_regression.predict(X_test)"
   ]
  },
  {
   "cell_type": "markdown",
   "id": "a28edf2d",
   "metadata": {},
   "source": [
    "Посмотрим основные метрики:"
   ]
  },
  {
   "cell_type": "code",
   "execution_count": 30,
   "id": "88a67742",
   "metadata": {},
   "outputs": [
    {
     "name": "stdout",
     "output_type": "stream",
     "text": [
      "R-squared: 0.503\n",
      "MSE: 0.665\n",
      "MAE: 0.602\n"
     ]
    }
   ],
   "source": [
    "print(f'R-squared: {round(r2_score(y_test, y_pred), 3)}')\n",
    "print(f'MSE: {round(mean_squared_error(y_test, y_pred), 3)}')\n",
    "print(f'MAE: {round(mean_absolute_error(y_test, y_pred), 3)}')"
   ]
  },
  {
   "cell_type": "markdown",
   "id": "1f526c0e",
   "metadata": {},
   "source": [
    "Посмотрим на список самых важных признаков (предикторов) модели:"
   ]
  },
  {
   "cell_type": "code",
   "execution_count": 31,
   "id": "9060e390",
   "metadata": {},
   "outputs": [
    {
     "data": {
      "text/plain": [
       "array([0, 1, 5, 4, 2, 3], dtype=int64)"
      ]
     },
     "execution_count": 31,
     "metadata": {},
     "output_type": "execute_result"
    }
   ],
   "source": [
    "np.argsort(abs(linear_regression.coef_))[::-1]"
   ]
  },
  {
   "cell_type": "markdown",
   "id": "5fa83fae",
   "metadata": {},
   "source": [
    "И посмотрим на первые 4:"
   ]
  },
  {
   "cell_type": "code",
   "execution_count": 32,
   "id": "128dc46e",
   "metadata": {},
   "outputs": [
    {
     "data": {
      "text/plain": [
       "('MedInc', 'HouseAge', 'AveOccup', 'Population')"
      ]
     },
     "execution_count": 32,
     "metadata": {},
     "output_type": "execute_result"
    }
   ],
   "source": [
    "feature_names[0], feature_names[1], feature_names[5], feature_names[4]"
   ]
  },
  {
   "cell_type": "markdown",
   "id": "2b3df567-878f-4f94-942e-18c77422281e",
   "metadata": {},
   "source": [
    "### Задание 3. Реализация логистической регресии (суммарно 10 баллов)"
   ]
  },
  {
   "cell_type": "markdown",
   "id": "98eb7773-98ab-4451-b83d-6c0c4288137a",
   "metadata": {},
   "source": [
    "Логистическая регрессия не очень сильно отличается от обычной линейной регрессии и используется в задах классификации. Так как здесь мы снова будем пользоваться градиентным спуском, то нужно определить функцию потерь и ее градиент. Одним из самых популярных вариантов в задаче бинарной классификации является бинарная кросс-энтропия (BCE).\n",
    "\n",
    "$$\\mathcal L_{BCE}(y, \\hat y) = -\\sum_i \\left[y_i\\log\\sigma(\\hat y_i) + (1-y_i)\\log(1-\\sigma(\\hat y_i))\\right].$$\n",
    "\n",
    "где $y$ это  таргет желаемого результата и $\\hat y$ является выходом модели. $\\sigma$ - это [*логистическая* функция](https://en.wikipedia.org/wiki/Sigmoid_function), который преобразует действительное число $\\mathbb R$ в вероятность $[0,1]$.\n",
    "\n",
    "Единственная проблема данной функции это возможность получить 0 под знаком логарифма, что не очень хорошо. Попробуем справить с этим \"в лоб\". Скажем, что наши предсказания могут принимать значения от 0 + eps до 1 - eps, где eps очень маленькое число."
   ]
  },
  {
   "cell_type": "markdown",
   "id": "3b6156cf-1749-4a43-b7ea-d469caeb7d01",
   "metadata": {},
   "source": [
    "#### Задание 3.1. Реализация сигмоиды (0.5 баллов)\n",
    "\n",
    "Реализуйте функцию `sigmoid`, которая переводит действительное число $\\mathbb R$ в вероятность $[0,1]$."
   ]
  },
  {
   "cell_type": "code",
   "execution_count": 33,
   "id": "c3632a03-f8e3-43e1-9949-2b8019d4c167",
   "metadata": {},
   "outputs": [],
   "source": [
    "def sigmoid(output):\n",
    "    # output результат X@w (-inf, +inf)\n",
    "    return 1 / (1 + np.exp(-output))"
   ]
  },
  {
   "cell_type": "markdown",
   "id": "4e243127-1e87-4b70-9205-b2a1c9709054",
   "metadata": {},
   "source": [
    "#### Задание 3.2. BCE Loss и ее градиент (2.5 балла)"
   ]
  },
  {
   "cell_type": "markdown",
   "id": "de43d40c-4c9a-4120-b8e6-6dfb41e5d261",
   "metadata": {},
   "source": [
    "Так как мы с вами только начинаем изучать машинное обучение, то было бы слишком жестоко просить вас вычислить градиент BCE Loss (он не так сложен, просто нужно привыкнуть). Поэтому сразу напишем формулу для него:\n",
    "\n",
    "$$\n",
    "\\nabla{\\mathcal L_{BCE}(y, \\hat y), X} = X^T (\\sigma({\\hat{y}}) - y)\n",
    "$$"
   ]
  },
  {
   "cell_type": "code",
   "execution_count": 34,
   "id": "057a5d74-5e8f-4949-a068-8d20c464869e",
   "metadata": {},
   "outputs": [],
   "source": [
    "def bce(y_true, y_pred, eps=1e-15):\n",
    "    \"\"\"\n",
    "    Функция потерь BCE.\n",
    "        :param y_true: np.array[n_samples]: вектор из правильных ответов 0/1\n",
    "        :param y_pred: np.array[n_samples]: вектор из предсказаний модели (вероятности)\n",
    "        :return: значение функции потерь\n",
    "    \"\"\"\n",
    "    \n",
    "    if  y_true.shape[0] != y_pred.shape[0]:\n",
    "        raise ValueError(\"Number of samples in both vectors should be equal\")\n",
    "        \n",
    "    n = y_true.shape[0]\n",
    "    \n",
    "    # So I want escape log(0)\n",
    "    y_pred = np.clip(y_pred, eps, 1 - eps)\n",
    "    \n",
    "    return -np.sum(y_true * np.log(y_pred) + (1 - y_true) * np.log(1 - y_pred)) / n\n",
    "    \n",
    "\n",
    "def bce_grad(y_true, y_pred, X):\n",
    "    \"\"\"\n",
    "    Функция потерь BCE.\n",
    "        :param y_true: np.array[n_samples]: вектор из правильных ответов 0/1\n",
    "        :param y_pred: np.array[n_samples]: вектор из предсказаний модели (вероятности)\n",
    "        :param X: np.array[n_samples, n_features]: матрица объекты x признаки\n",
    "        :return: значение функции потерь\n",
    "    \"\"\"\n",
    "    \n",
    "    if  y_true.shape[0] != y_pred.shape[0]:\n",
    "        raise ValueError(\"Number of samples in both vectors should be equal\")\n",
    "        \n",
    "    return X.T @ (y_pred - y_true) \n",
    "\n",
    "\n",
    "class BCELoss:\n",
    "    \"\"\"\n",
    "    Класс, реализующий функцию потерь BCE. Нужен для того, чтобы\n",
    "    объединять в одном месте функцию потерь и градиент для нее.\n",
    "    \"\"\"\n",
    "    \n",
    "    def __call__(self, y_true, y_pred):\n",
    "        return bce(y_true, y_pred)\n",
    "    \n",
    "    def calculate_gradient(self, y_true, y_pred, X):\n",
    "        return bce_grad(y_true, y_pred, X)"
   ]
  },
  {
   "cell_type": "markdown",
   "id": "7139689e-729b-40e5-b903-c0d9af8880e0",
   "metadata": {},
   "source": [
    "#### Задание 3.3. Предсказания логистической регрессии (2 балла)\n",
    "\n",
    "Реализуйте метод `predict` у класса `CustomLogisticRegression`, не забудьте про свободный член!"
   ]
  },
  {
   "cell_type": "code",
   "execution_count": 35,
   "id": "28b82913-7674-49e6-8f04-8d0d428be019",
   "metadata": {},
   "outputs": [],
   "source": [
    "class CustomLogisticRegression(BaseLinearModel):\n",
    "    def __init__(self, learning_rate: float = 1e-3,\n",
    "                 loss_function=BCELoss(), fit_intercept=True,\n",
    "                 n_iter=1000, tol=1e-5, optimizer=BasicGradientDescent, grad_norm=\"l1\"):\n",
    "        \n",
    "        super().__init__(learning_rate=learning_rate,\n",
    "                         loss_function=loss_function, fit_intercept=fit_intercept,\n",
    "                         n_iter=n_iter, tol=tol, optimizer=optimizer, grad_norm=grad_norm)\n",
    "    \n",
    "    \n",
    "    def predict(self, X_test):\n",
    "        if self.W is None:\n",
    "            raise NotFittedError(\"This CustomLogisticRegression instance is not fitted, run fit method.\")\n",
    "        \n",
    "        n_test_samples = X_test.shape[0]\n",
    "        if self.fit_intercept:\n",
    "            ones_column = np.ones((n_test_samples, 1))\n",
    "            X_test = np.hstack((ones_column, X_test))\n",
    "            \n",
    "        return sigmoid(X_test @ self.W)\n",
    "    \n",
    "    \n",
    "    def __repr__(self):\n",
    "        return \"My custom logistic regression\""
   ]
  },
  {
   "cell_type": "markdown",
   "id": "d3ca2d1a-a382-4c1f-bfa3-e23568ff7832",
   "metadata": {},
   "source": [
    "#### Снова проверим работу алгоритма на простом примере"
   ]
  },
  {
   "cell_type": "code",
   "execution_count": 36,
   "id": "8f5b577c-032c-4114-b797-9f3d08806e66",
   "metadata": {},
   "outputs": [],
   "source": [
    "# Создадим датасет из 1 признака и 2 классов\n",
    "X, y = make_classification(n_features=1, n_informative=1,\n",
    "                           n_redundant=0, n_clusters_per_class=1)"
   ]
  },
  {
   "cell_type": "code",
   "execution_count": 37,
   "id": "ece8ab2c-8a8d-474f-a820-96e61fba35a4",
   "metadata": {},
   "outputs": [
    {
     "data": {
      "image/png": "[encoded data removed]",
      "text/plain": [
       "<Figure size 864x648 with 1 Axes>"
      ]
     },
     "metadata": {},
     "output_type": "display_data"
    }
   ],
   "source": [
    "plt.scatter(X, y);"
   ]
  },
  {
   "cell_type": "code",
   "execution_count": 38,
   "id": "e0dfdb15-835a-471a-b4e1-9f93396d21da",
   "metadata": {},
   "outputs": [],
   "source": [
    "custom_log_reg = CustomLogisticRegression()\n",
    "custom_log_reg.fit(X, y)\n",
    "y_pred = custom_log_reg.predict(X)"
   ]
  },
  {
   "cell_type": "code",
   "execution_count": 39,
   "id": "b714d857-68b0-401e-88cd-a722712419f8",
   "metadata": {},
   "outputs": [
    {
     "data": {
      "image/png": "[encoded data removed]",
      "text/plain": [
       "<Figure size 864x648 with 1 Axes>"
      ]
     },
     "metadata": {},
     "output_type": "display_data"
    }
   ],
   "source": [
    "y_pred = np.where(y_pred >= 0.5, 1, 0) \n",
    "\n",
    "plt.scatter(X, y)\n",
    "plt.scatter(X, y_pred);"
   ]
  },
  {
   "cell_type": "markdown",
   "id": "588c4a67-beac-4566-be93-95eb1e985d26",
   "metadata": {},
   "source": [
    "Проверьте качество работы модели при помощи известных вам метрик бинарной классификации."
   ]
  },
  {
   "cell_type": "code",
   "execution_count": 40,
   "id": "fd4c6acd-2257-4f27-aba2-d9ebd585ae32",
   "metadata": {},
   "outputs": [],
   "source": [
    "from sklearn.metrics import precision_score, recall_score, f1_score, accuracy_score"
   ]
  },
  {
   "cell_type": "code",
   "execution_count": 41,
   "id": "438273bc",
   "metadata": {},
   "outputs": [
    {
     "name": "stdout",
     "output_type": "stream",
     "text": [
      "Precision: 0.980\n",
      "Recall: 1.000\n",
      "F1 Score: 0.990\n",
      "Accuracy: 0.990\n"
     ]
    }
   ],
   "source": [
    "print('Precision: %.3f' % precision_score(y, y_pred)) \n",
    "print('Recall: %.3f' % recall_score(y, y_pred)) \n",
    "print('F1 Score: %.3f' % f1_score(y, y_pred)) \n",
    "print('Accuracy: %.3f' % accuracy_score(y, y_pred)) "
   ]
  },
  {
   "cell_type": "markdown",
   "id": "916b7736-caf6-4c5d-920d-1d3d9c7b89ea",
   "metadata": {},
   "source": [
    "#### Задание 3.4. Применение логистической регрессии (5 баллов)\n",
    "\n",
    "Мы будем использовать данные по свойствам покемонов (https://www.kaggle.com/abcsds/pokemon). В данном задании вам необходимо сначала сделать краткий EDA (Посмотреть на данные и их распределения, а также посмотреть, как различные признаки связаны между собой и с целевой переменной (`Legendary`))."
   ]
  },
  {
   "cell_type": "code",
   "execution_count": 42,
   "id": "d29db297",
   "metadata": {},
   "outputs": [
    {
     "data": {
      "text/html": [
       "<div>\n",
       "<style scoped>\n",
       "    .dataframe tbody tr th:only-of-type {\n",
       "        vertical-align: middle;\n",
       "    }\n",
       "\n",
       "    .dataframe tbody tr th {\n",
       "        vertical-align: top;\n",
       "    }\n",
       "\n",
       "    .dataframe thead th {\n",
       "        text-align: right;\n",
       "    }\n",
       "</style>\n",
       "<table border=\"1\" class=\"dataframe\">\n",
       "  <thead>\n",
       "    <tr style=\"text-align: right;\">\n",
       "      <th></th>\n",
       "      <th>#</th>\n",
       "      <th>Name</th>\n",
       "      <th>Type 1</th>\n",
       "      <th>Type 2</th>\n",
       "      <th>Total</th>\n",
       "      <th>HP</th>\n",
       "      <th>Attack</th>\n",
       "      <th>Defense</th>\n",
       "      <th>Sp. Atk</th>\n",
       "      <th>Sp. Def</th>\n",
       "      <th>Speed</th>\n",
       "      <th>Generation</th>\n",
       "      <th>Legendary</th>\n",
       "    </tr>\n",
       "  </thead>\n",
       "  <tbody>\n",
       "    <tr>\n",
       "      <th>0</th>\n",
       "      <td>1</td>\n",
       "      <td>Bulbasaur</td>\n",
       "      <td>Grass</td>\n",
       "      <td>Poison</td>\n",
       "      <td>318</td>\n",
       "      <td>45</td>\n",
       "      <td>49</td>\n",
       "      <td>49</td>\n",
       "      <td>65</td>\n",
       "      <td>65</td>\n",
       "      <td>45</td>\n",
       "      <td>1</td>\n",
       "      <td>False</td>\n",
       "    </tr>\n",
       "    <tr>\n",
       "      <th>1</th>\n",
       "      <td>2</td>\n",
       "      <td>Ivysaur</td>\n",
       "      <td>Grass</td>\n",
       "      <td>Poison</td>\n",
       "      <td>405</td>\n",
       "      <td>60</td>\n",
       "      <td>62</td>\n",
       "      <td>63</td>\n",
       "      <td>80</td>\n",
       "      <td>80</td>\n",
       "      <td>60</td>\n",
       "      <td>1</td>\n",
       "      <td>False</td>\n",
       "    </tr>\n",
       "    <tr>\n",
       "      <th>2</th>\n",
       "      <td>3</td>\n",
       "      <td>Venusaur</td>\n",
       "      <td>Grass</td>\n",
       "      <td>Poison</td>\n",
       "      <td>525</td>\n",
       "      <td>80</td>\n",
       "      <td>82</td>\n",
       "      <td>83</td>\n",
       "      <td>100</td>\n",
       "      <td>100</td>\n",
       "      <td>80</td>\n",
       "      <td>1</td>\n",
       "      <td>False</td>\n",
       "    </tr>\n",
       "    <tr>\n",
       "      <th>3</th>\n",
       "      <td>3</td>\n",
       "      <td>VenusaurMega Venusaur</td>\n",
       "      <td>Grass</td>\n",
       "      <td>Poison</td>\n",
       "      <td>625</td>\n",
       "      <td>80</td>\n",
       "      <td>100</td>\n",
       "      <td>123</td>\n",
       "      <td>122</td>\n",
       "      <td>120</td>\n",
       "      <td>80</td>\n",
       "      <td>1</td>\n",
       "      <td>False</td>\n",
       "    </tr>\n",
       "    <tr>\n",
       "      <th>4</th>\n",
       "      <td>4</td>\n",
       "      <td>Charmander</td>\n",
       "      <td>Fire</td>\n",
       "      <td>NaN</td>\n",
       "      <td>309</td>\n",
       "      <td>39</td>\n",
       "      <td>52</td>\n",
       "      <td>43</td>\n",
       "      <td>60</td>\n",
       "      <td>50</td>\n",
       "      <td>65</td>\n",
       "      <td>1</td>\n",
       "      <td>False</td>\n",
       "    </tr>\n",
       "  </tbody>\n",
       "</table>\n",
       "</div>"
      ],
      "text/plain": [
       "   #                   Name Type 1  Type 2  Total  HP  Attack  Defense  \\\n",
       "0  1              Bulbasaur  Grass  Poison    318  45      49       49   \n",
       "1  2                Ivysaur  Grass  Poison    405  60      62       63   \n",
       "2  3               Venusaur  Grass  Poison    525  80      82       83   \n",
       "3  3  VenusaurMega Venusaur  Grass  Poison    625  80     100      123   \n",
       "4  4             Charmander   Fire     NaN    309  39      52       43   \n",
       "\n",
       "   Sp. Atk  Sp. Def  Speed  Generation  Legendary  \n",
       "0       65       65     45           1      False  \n",
       "1       80       80     60           1      False  \n",
       "2      100      100     80           1      False  \n",
       "3      122      120     80           1      False  \n",
       "4       60       50     65           1      False  "
      ]
     },
     "execution_count": 42,
     "metadata": {},
     "output_type": "execute_result"
    }
   ],
   "source": [
    "pokemon = pd.read_csv(\"Pokemon.csv\")\n",
    "pokemon.head()"
   ]
  },
  {
   "cell_type": "markdown",
   "id": "33d89ccc",
   "metadata": {},
   "source": [
    "Мы будем предсказывать является ли покемон легендарным или нет. Замените логическое значение колонки на числовое (перекодировав на 0 и 1). Также подумайте, как в этом случае лучше закодировать категориальные признаки (может быть, лучше их просто выбросить?)."
   ]
  },
  {
   "cell_type": "markdown",
   "id": "b818fdf3",
   "metadata": {},
   "source": [
    "Посмотрим на датасет:\n",
    " * #: ID для каждого покемона\n",
    " * Name: Название каждого покемона\n",
    " * Type 1: определяет слабость и способность защиты от атак\n",
    " * Type 2: двойной тип\n",
    " * Total: сумма всех статистик\n",
    " * HP: здоровь\n",
    " * Attack: базовый модификатор обычных атак\n",
    " * Defense: базовое сопротивление урону от обычных атак\n",
    " * Sp.Atk: специальная атака, базовый модификатор для специальных атак\n",
    " * Sp.Def: базовое сопротивление урону от специальных атак\n",
    " * Speed: определяет, какой покемон атакует первым"
   ]
  },
  {
   "cell_type": "code",
   "execution_count": 43,
   "id": "0db7a2c5",
   "metadata": {},
   "outputs": [
    {
     "name": "stdout",
     "output_type": "stream",
     "text": [
      "<class 'pandas.core.frame.DataFrame'>\n",
      "RangeIndex: 800 entries, 0 to 799\n",
      "Data columns (total 13 columns):\n",
      " #   Column      Non-Null Count  Dtype \n",
      "---  ------      --------------  ----- \n",
      " 0   #           800 non-null    int64 \n",
      " 1   Name        800 non-null    object\n",
      " 2   Type 1      800 non-null    object\n",
      " 3   Type 2      414 non-null    object\n",
      " 4   Total       800 non-null    int64 \n",
      " 5   HP          800 non-null    int64 \n",
      " 6   Attack      800 non-null    int64 \n",
      " 7   Defense     800 non-null    int64 \n",
      " 8   Sp. Atk     800 non-null    int64 \n",
      " 9   Sp. Def     800 non-null    int64 \n",
      " 10  Speed       800 non-null    int64 \n",
      " 11  Generation  800 non-null    int64 \n",
      " 12  Legendary   800 non-null    bool  \n",
      "dtypes: bool(1), int64(9), object(3)\n",
      "memory usage: 75.9+ KB\n"
     ]
    }
   ],
   "source": [
    "pokemon.info()"
   ]
  },
  {
   "cell_type": "markdown",
   "id": "402495b2",
   "metadata": {},
   "source": [
    "Переведем Legendary в число"
   ]
  },
  {
   "cell_type": "code",
   "execution_count": 44,
   "id": "6d37a96a",
   "metadata": {},
   "outputs": [],
   "source": [
    "pokemon.Legendary = pokemon.Legendary.astype(int)"
   ]
  },
  {
   "cell_type": "code",
   "execution_count": 45,
   "id": "08a13002",
   "metadata": {},
   "outputs": [
    {
     "data": {
      "text/html": [
       "<div>\n",
       "<style scoped>\n",
       "    .dataframe tbody tr th:only-of-type {\n",
       "        vertical-align: middle;\n",
       "    }\n",
       "\n",
       "    .dataframe tbody tr th {\n",
       "        vertical-align: top;\n",
       "    }\n",
       "\n",
       "    .dataframe thead th {\n",
       "        text-align: right;\n",
       "    }\n",
       "</style>\n",
       "<table border=\"1\" class=\"dataframe\">\n",
       "  <thead>\n",
       "    <tr style=\"text-align: right;\">\n",
       "      <th></th>\n",
       "      <th>#</th>\n",
       "      <th>Name</th>\n",
       "      <th>Type 1</th>\n",
       "      <th>Type 2</th>\n",
       "      <th>Total</th>\n",
       "      <th>HP</th>\n",
       "      <th>Attack</th>\n",
       "      <th>Defense</th>\n",
       "      <th>Sp. Atk</th>\n",
       "      <th>Sp. Def</th>\n",
       "      <th>Speed</th>\n",
       "      <th>Generation</th>\n",
       "      <th>Legendary</th>\n",
       "    </tr>\n",
       "  </thead>\n",
       "  <tbody>\n",
       "    <tr>\n",
       "      <th>0</th>\n",
       "      <td>1</td>\n",
       "      <td>Bulbasaur</td>\n",
       "      <td>Grass</td>\n",
       "      <td>Poison</td>\n",
       "      <td>318</td>\n",
       "      <td>45</td>\n",
       "      <td>49</td>\n",
       "      <td>49</td>\n",
       "      <td>65</td>\n",
       "      <td>65</td>\n",
       "      <td>45</td>\n",
       "      <td>1</td>\n",
       "      <td>0</td>\n",
       "    </tr>\n",
       "    <tr>\n",
       "      <th>1</th>\n",
       "      <td>2</td>\n",
       "      <td>Ivysaur</td>\n",
       "      <td>Grass</td>\n",
       "      <td>Poison</td>\n",
       "      <td>405</td>\n",
       "      <td>60</td>\n",
       "      <td>62</td>\n",
       "      <td>63</td>\n",
       "      <td>80</td>\n",
       "      <td>80</td>\n",
       "      <td>60</td>\n",
       "      <td>1</td>\n",
       "      <td>0</td>\n",
       "    </tr>\n",
       "    <tr>\n",
       "      <th>2</th>\n",
       "      <td>3</td>\n",
       "      <td>Venusaur</td>\n",
       "      <td>Grass</td>\n",
       "      <td>Poison</td>\n",
       "      <td>525</td>\n",
       "      <td>80</td>\n",
       "      <td>82</td>\n",
       "      <td>83</td>\n",
       "      <td>100</td>\n",
       "      <td>100</td>\n",
       "      <td>80</td>\n",
       "      <td>1</td>\n",
       "      <td>0</td>\n",
       "    </tr>\n",
       "    <tr>\n",
       "      <th>3</th>\n",
       "      <td>3</td>\n",
       "      <td>VenusaurMega Venusaur</td>\n",
       "      <td>Grass</td>\n",
       "      <td>Poison</td>\n",
       "      <td>625</td>\n",
       "      <td>80</td>\n",
       "      <td>100</td>\n",
       "      <td>123</td>\n",
       "      <td>122</td>\n",
       "      <td>120</td>\n",
       "      <td>80</td>\n",
       "      <td>1</td>\n",
       "      <td>0</td>\n",
       "    </tr>\n",
       "    <tr>\n",
       "      <th>4</th>\n",
       "      <td>4</td>\n",
       "      <td>Charmander</td>\n",
       "      <td>Fire</td>\n",
       "      <td>NaN</td>\n",
       "      <td>309</td>\n",
       "      <td>39</td>\n",
       "      <td>52</td>\n",
       "      <td>43</td>\n",
       "      <td>60</td>\n",
       "      <td>50</td>\n",
       "      <td>65</td>\n",
       "      <td>1</td>\n",
       "      <td>0</td>\n",
       "    </tr>\n",
       "  </tbody>\n",
       "</table>\n",
       "</div>"
      ],
      "text/plain": [
       "   #                   Name Type 1  Type 2  Total  HP  Attack  Defense  \\\n",
       "0  1              Bulbasaur  Grass  Poison    318  45      49       49   \n",
       "1  2                Ivysaur  Grass  Poison    405  60      62       63   \n",
       "2  3               Venusaur  Grass  Poison    525  80      82       83   \n",
       "3  3  VenusaurMega Venusaur  Grass  Poison    625  80     100      123   \n",
       "4  4             Charmander   Fire     NaN    309  39      52       43   \n",
       "\n",
       "   Sp. Atk  Sp. Def  Speed  Generation  Legendary  \n",
       "0       65       65     45           1          0  \n",
       "1       80       80     60           1          0  \n",
       "2      100      100     80           1          0  \n",
       "3      122      120     80           1          0  \n",
       "4       60       50     65           1          0  "
      ]
     },
     "execution_count": 45,
     "metadata": {},
     "output_type": "execute_result"
    }
   ],
   "source": [
    "pokemon.head()"
   ]
  },
  {
   "cell_type": "markdown",
   "id": "f0403fa9",
   "metadata": {},
   "source": [
    "Теперь посмотрим на колонки, какие из них можно убрать?\n",
    "* Первый вариант: колонка # - она уникальная для кажого вида, но внутри вида для конкретных особей одинакова (как пример - Venusaur и VenusaurMega Venusaur), так что уберем\n",
    "* Второй вариант: колонка Name - проверим колонку на уникальность имен, и в случае положительного ответа уберем\n",
    "* Третий вариант: колонка Total - просто сумма нескольких (HP, Attack, Defense, Sp. Atk, Sp. Def, Speed) колонок, так что тоже убираем"
   ]
  },
  {
   "cell_type": "code",
   "execution_count": 46,
   "id": "2b7a1f76",
   "metadata": {},
   "outputs": [
    {
     "data": {
      "text/plain": [
       "array([1], dtype=int64)"
      ]
     },
     "execution_count": 46,
     "metadata": {},
     "output_type": "execute_result"
    }
   ],
   "source": [
    "pokemon[[\"Name\"]].value_counts().unique()"
   ]
  },
  {
   "cell_type": "code",
   "execution_count": 47,
   "id": "83df051b",
   "metadata": {},
   "outputs": [],
   "source": [
    "pokemon = pokemon.drop([\"#\", \"Name\", \"Total\"], axis=1)"
   ]
  },
  {
   "cell_type": "markdown",
   "id": "e7a8cec2",
   "metadata": {},
   "source": [
    "Посмотрим на Тип1 и Тип2. У всех есть Тип1, но не у всех есть Тип2. Я оставлю эти колонки, так что заменим NA нa None."
   ]
  },
  {
   "cell_type": "code",
   "execution_count": 48,
   "id": "3c16f397",
   "metadata": {},
   "outputs": [
    {
     "data": {
      "text/plain": [
       "Type 1          0\n",
       "Type 2        386\n",
       "HP              0\n",
       "Attack          0\n",
       "Defense         0\n",
       "Sp. Atk         0\n",
       "Sp. Def         0\n",
       "Speed           0\n",
       "Generation      0\n",
       "Legendary       0\n",
       "dtype: int64"
      ]
     },
     "execution_count": 48,
     "metadata": {},
     "output_type": "execute_result"
    }
   ],
   "source": [
    "pokemon.isna().sum()"
   ]
  },
  {
   "cell_type": "code",
   "execution_count": 49,
   "id": "1e02e6a1",
   "metadata": {},
   "outputs": [],
   "source": [
    "pokemon['Type 2'].fillna(value='None', inplace=True)"
   ]
  },
  {
   "cell_type": "markdown",
   "id": "aeee0101",
   "metadata": {},
   "source": [
    "Generation категориальный признак, как и Тип1, Тип2. Также будет необходжима стандартизация:"
   ]
  },
  {
   "cell_type": "code",
   "execution_count": 50,
   "id": "becb3d15",
   "metadata": {},
   "outputs": [
    {
     "data": {
      "text/plain": [
       "array([1, 2, 3, 4, 5, 6], dtype=int64)"
      ]
     },
     "execution_count": 50,
     "metadata": {},
     "output_type": "execute_result"
    }
   ],
   "source": [
    "pokemon[\"Generation\"].unique()"
   ]
  },
  {
   "cell_type": "code",
   "execution_count": 51,
   "id": "1165feee",
   "metadata": {},
   "outputs": [
    {
     "data": {
      "text/html": [
       "<div>\n",
       "<style scoped>\n",
       "    .dataframe tbody tr th:only-of-type {\n",
       "        vertical-align: middle;\n",
       "    }\n",
       "\n",
       "    .dataframe tbody tr th {\n",
       "        vertical-align: top;\n",
       "    }\n",
       "\n",
       "    .dataframe thead th {\n",
       "        text-align: right;\n",
       "    }\n",
       "</style>\n",
       "<table border=\"1\" class=\"dataframe\">\n",
       "  <thead>\n",
       "    <tr style=\"text-align: right;\">\n",
       "      <th></th>\n",
       "      <th>HP</th>\n",
       "      <th>Attack</th>\n",
       "      <th>Defense</th>\n",
       "      <th>Sp. Atk</th>\n",
       "      <th>Sp. Def</th>\n",
       "      <th>Speed</th>\n",
       "      <th>Generation</th>\n",
       "      <th>Legendary</th>\n",
       "    </tr>\n",
       "  </thead>\n",
       "  <tbody>\n",
       "    <tr>\n",
       "      <th>count</th>\n",
       "      <td>800.000000</td>\n",
       "      <td>800.000000</td>\n",
       "      <td>800.000000</td>\n",
       "      <td>800.000000</td>\n",
       "      <td>800.000000</td>\n",
       "      <td>800.000000</td>\n",
       "      <td>800.00000</td>\n",
       "      <td>800.00000</td>\n",
       "    </tr>\n",
       "    <tr>\n",
       "      <th>mean</th>\n",
       "      <td>69.258750</td>\n",
       "      <td>79.001250</td>\n",
       "      <td>73.842500</td>\n",
       "      <td>72.820000</td>\n",
       "      <td>71.902500</td>\n",
       "      <td>68.277500</td>\n",
       "      <td>3.32375</td>\n",
       "      <td>0.08125</td>\n",
       "    </tr>\n",
       "    <tr>\n",
       "      <th>std</th>\n",
       "      <td>25.534669</td>\n",
       "      <td>32.457366</td>\n",
       "      <td>31.183501</td>\n",
       "      <td>32.722294</td>\n",
       "      <td>27.828916</td>\n",
       "      <td>29.060474</td>\n",
       "      <td>1.66129</td>\n",
       "      <td>0.27339</td>\n",
       "    </tr>\n",
       "    <tr>\n",
       "      <th>min</th>\n",
       "      <td>1.000000</td>\n",
       "      <td>5.000000</td>\n",
       "      <td>5.000000</td>\n",
       "      <td>10.000000</td>\n",
       "      <td>20.000000</td>\n",
       "      <td>5.000000</td>\n",
       "      <td>1.00000</td>\n",
       "      <td>0.00000</td>\n",
       "    </tr>\n",
       "    <tr>\n",
       "      <th>25%</th>\n",
       "      <td>50.000000</td>\n",
       "      <td>55.000000</td>\n",
       "      <td>50.000000</td>\n",
       "      <td>49.750000</td>\n",
       "      <td>50.000000</td>\n",
       "      <td>45.000000</td>\n",
       "      <td>2.00000</td>\n",
       "      <td>0.00000</td>\n",
       "    </tr>\n",
       "    <tr>\n",
       "      <th>50%</th>\n",
       "      <td>65.000000</td>\n",
       "      <td>75.000000</td>\n",
       "      <td>70.000000</td>\n",
       "      <td>65.000000</td>\n",
       "      <td>70.000000</td>\n",
       "      <td>65.000000</td>\n",
       "      <td>3.00000</td>\n",
       "      <td>0.00000</td>\n",
       "    </tr>\n",
       "    <tr>\n",
       "      <th>75%</th>\n",
       "      <td>80.000000</td>\n",
       "      <td>100.000000</td>\n",
       "      <td>90.000000</td>\n",
       "      <td>95.000000</td>\n",
       "      <td>90.000000</td>\n",
       "      <td>90.000000</td>\n",
       "      <td>5.00000</td>\n",
       "      <td>0.00000</td>\n",
       "    </tr>\n",
       "    <tr>\n",
       "      <th>max</th>\n",
       "      <td>255.000000</td>\n",
       "      <td>190.000000</td>\n",
       "      <td>230.000000</td>\n",
       "      <td>194.000000</td>\n",
       "      <td>230.000000</td>\n",
       "      <td>180.000000</td>\n",
       "      <td>6.00000</td>\n",
       "      <td>1.00000</td>\n",
       "    </tr>\n",
       "  </tbody>\n",
       "</table>\n",
       "</div>"
      ],
      "text/plain": [
       "               HP      Attack     Defense     Sp. Atk     Sp. Def       Speed  \\\n",
       "count  800.000000  800.000000  800.000000  800.000000  800.000000  800.000000   \n",
       "mean    69.258750   79.001250   73.842500   72.820000   71.902500   68.277500   \n",
       "std     25.534669   32.457366   31.183501   32.722294   27.828916   29.060474   \n",
       "min      1.000000    5.000000    5.000000   10.000000   20.000000    5.000000   \n",
       "25%     50.000000   55.000000   50.000000   49.750000   50.000000   45.000000   \n",
       "50%     65.000000   75.000000   70.000000   65.000000   70.000000   65.000000   \n",
       "75%     80.000000  100.000000   90.000000   95.000000   90.000000   90.000000   \n",
       "max    255.000000  190.000000  230.000000  194.000000  230.000000  180.000000   \n",
       "\n",
       "       Generation  Legendary  \n",
       "count   800.00000  800.00000  \n",
       "mean      3.32375    0.08125  \n",
       "std       1.66129    0.27339  \n",
       "min       1.00000    0.00000  \n",
       "25%       2.00000    0.00000  \n",
       "50%       3.00000    0.00000  \n",
       "75%       5.00000    0.00000  \n",
       "max       6.00000    1.00000  "
      ]
     },
     "execution_count": 51,
     "metadata": {},
     "output_type": "execute_result"
    }
   ],
   "source": [
    "pokemon.describe()"
   ]
  },
  {
   "cell_type": "markdown",
   "id": "fe6a0b03",
   "metadata": {},
   "source": [
    "И у нас есть сильный дисбаланс классов (делать мы с этим, конечно же, ничего не будем)."
   ]
  },
  {
   "cell_type": "markdown",
   "id": "89c795f0",
   "metadata": {},
   "source": [
    "Попробуем реализовать пайплайн (попытка номер два)."
   ]
  },
  {
   "cell_type": "code",
   "execution_count": 52,
   "id": "08036c4e",
   "metadata": {},
   "outputs": [],
   "source": [
    "cat_cols = [\"Type 1\", \"Type 2\", \"Generation\"]\n",
    "num_cols = [\"HP\", \"Attack\", \"Defense\", \"Sp. Atk\", \"Sp. Def\", \"Speed\"]\n",
    "all_features = cat_cols + num_cols\n",
    "\n",
    "target = pokemon[\"Legendary\"].values\n",
    "\n",
    "X = pokemon[all_features]\n",
    "y = target"
   ]
  },
  {
   "cell_type": "code",
   "execution_count": 53,
   "id": "958f0e71",
   "metadata": {},
   "outputs": [],
   "source": [
    "from sklearn.compose import ColumnTransformer\n",
    "from sklearn.preprocessing import OneHotEncoder\n",
    "\n",
    "preprocessor = ColumnTransformer(transformers=[\n",
    "    (\"scaler\", StandardScaler(), num_cols),\n",
    "    (\"ohe\", OneHotEncoder(), cat_cols)\n",
    "])"
   ]
  },
  {
   "cell_type": "code",
   "execution_count": 54,
   "id": "ee110958",
   "metadata": {},
   "outputs": [
    {
     "data": {
      "text/plain": [
       "[('scaler',\n",
       "  StandardScaler(),\n",
       "  ['HP', 'Attack', 'Defense', 'Sp. Atk', 'Sp. Def', 'Speed']),\n",
       " ('ohe', OneHotEncoder(), ['Type 1', 'Type 2', 'Generation'])]"
      ]
     },
     "execution_count": 54,
     "metadata": {},
     "output_type": "execute_result"
    }
   ],
   "source": [
    "preprocessor.transformers"
   ]
  },
  {
   "cell_type": "markdown",
   "id": "12e09fa0",
   "metadata": {},
   "source": [
    "Разделите ваши данные на тестовую и тренировочную выборку."
   ]
  },
  {
   "cell_type": "code",
   "execution_count": 55,
   "id": "da92f131",
   "metadata": {},
   "outputs": [],
   "source": [
    "X_train, X_test, y_train, y_test = train_test_split(X, y, random_state=SEED, test_size=0.1)"
   ]
  },
  {
   "cell_type": "markdown",
   "id": "321d3f38",
   "metadata": {},
   "source": [
    "Обучите модель `LogisticRegression` из `sklearn`."
   ]
  },
  {
   "cell_type": "code",
   "execution_count": 56,
   "id": "0c8b887b",
   "metadata": {},
   "outputs": [
    {
     "data": {
      "text/plain": [
       "Pipeline(steps=[('preprocessor',\n",
       "                 ColumnTransformer(transformers=[('scaler', StandardScaler(),\n",
       "                                                  ['HP', 'Attack', 'Defense',\n",
       "                                                   'Sp. Atk', 'Sp. Def',\n",
       "                                                   'Speed']),\n",
       "                                                 ('ohe', OneHotEncoder(),\n",
       "                                                  ['Type 1', 'Type 2',\n",
       "                                                   'Generation'])])),\n",
       "                ('log_regression_pipeline',\n",
       "                 LogisticRegression(class_weight='balanced'))])"
      ]
     },
     "execution_count": 56,
     "metadata": {},
     "output_type": "execute_result"
    }
   ],
   "source": [
    "log_regression_pipeline = Pipeline(steps=[\n",
    "    (\"preprocessor\", preprocessor),\n",
    "    (\"log_regression_pipeline\", LogisticRegression(class_weight=\"balanced\"))\n",
    "])\n",
    "log_regression_pipeline.fit(X_train, y_train)"
   ]
  },
  {
   "cell_type": "code",
   "execution_count": 57,
   "id": "27dbb5b7",
   "metadata": {},
   "outputs": [],
   "source": [
    "y_pred = log_regression_pipeline.predict(X_test)"
   ]
  },
  {
   "cell_type": "markdown",
   "id": "75dc12fe",
   "metadata": {},
   "source": [
    "Выведите метрики вашего классификатора:\n",
    "\n",
    "1. Нарисуйте [confusion matrix](https://scikit-learn.org/stable/modules/generated/sklearn.metrics.plot_confusion_matrix.html).\n",
    "\n",
    "2. Изобразите ROC кривую и посчитайте площадь под ней.\n",
    "\n",
    "3. Скажите, какие признаки оказались наиболее важны для модели."
   ]
  },
  {
   "cell_type": "code",
   "execution_count": 58,
   "id": "b77eb26a",
   "metadata": {},
   "outputs": [
    {
     "data": {
      "image/png": "[encoded data removed]",
      "text/plain": [
       "<Figure size 864x648 with 2 Axes>"
      ]
     },
     "metadata": {},
     "output_type": "display_data"
    }
   ],
   "source": [
    "from sklearn.metrics import classification_report, confusion_matrix\n",
    "import seaborn as sns\n",
    "\n",
    "class_names = ['0', '1']\n",
    "cm = pd.DataFrame(confusion_matrix(y_test, y_pred), \n",
    "                  columns=class_names, index = class_names)\n",
    "sns.heatmap(cm, annot=True, fmt='d');"
   ]
  },
  {
   "cell_type": "code",
   "execution_count": 59,
   "id": "63f58f5a-3b46-4562-b4bb-6d09c9a5fb3b",
   "metadata": {},
   "outputs": [
    {
     "name": "stdout",
     "output_type": "stream",
     "text": [
      "ROC AUC=0.97\n"
     ]
    },
    {
     "data": {
      "image/png": "[encoded data removed]",
      "text/plain": [
       "<Figure size 864x648 with 1 Axes>"
      ]
     },
     "metadata": {},
     "output_type": "display_data"
    }
   ],
   "source": [
    "from sklearn.metrics import roc_auc_score, RocCurveDisplay\n",
    "from sklearn import metrics\n",
    "\n",
    "lr_probs = log_regression_pipeline.predict_proba(X_test)\n",
    "\n",
    "\n",
    "lr_probs = lr_probs[:, 1] #  вероятности только положительного исхода\n",
    "\n",
    "\n",
    "lr_auc = roc_auc_score(y_test, lr_probs) # ROC AUC\n",
    "print(f'ROC AUC={round(lr_auc, 2)}')\n",
    "\n",
    "\n",
    "fpr, tpr, treshold = metrics.roc_curve(y_test, lr_probs) # roc-кривa\n",
    "roc_auc = metrics.auc(fpr, tpr)\n",
    "\n",
    "plt.plot(fpr, tpr, color='green',\n",
    "         label=f'ROC curve (AUC = %0.2f' % roc_auc)\n",
    "plt.plot([0, 1], [0, 1], color='black', linestyle='--')\n",
    "plt.xlim([-0.05, 1.0])\n",
    "plt.ylim([0.0, 1.05])\n",
    "plt.xlabel('False Positive Rate')\n",
    "plt.ylabel('True Positive Rate')\n",
    "plt.title('ROC curve')\n",
    "plt.legend(loc=\"lower right\")\n",
    "plt.show()"
   ]
  },
  {
   "cell_type": "code",
   "execution_count": 60,
   "id": "b1a5ff96",
   "metadata": {},
   "outputs": [
    {
     "data": {
      "text/plain": [
       "array(['scaler__HP', 'scaler__Attack', 'scaler__Defense',\n",
       "       'scaler__Sp. Atk', 'scaler__Sp. Def', 'scaler__Speed',\n",
       "       'ohe__Type 1_Bug', 'ohe__Type 1_Dark', 'ohe__Type 1_Dragon',\n",
       "       'ohe__Type 1_Electric', 'ohe__Type 1_Fairy',\n",
       "       'ohe__Type 1_Fighting', 'ohe__Type 1_Fire', 'ohe__Type 1_Flying',\n",
       "       'ohe__Type 1_Ghost', 'ohe__Type 1_Grass', 'ohe__Type 1_Ground',\n",
       "       'ohe__Type 1_Ice', 'ohe__Type 1_Normal', 'ohe__Type 1_Poison',\n",
       "       'ohe__Type 1_Psychic', 'ohe__Type 1_Rock', 'ohe__Type 1_Steel',\n",
       "       'ohe__Type 1_Water', 'ohe__Type 2_Bug', 'ohe__Type 2_Dark',\n",
       "       'ohe__Type 2_Dragon', 'ohe__Type 2_Electric', 'ohe__Type 2_Fairy',\n",
       "       'ohe__Type 2_Fighting', 'ohe__Type 2_Fire', 'ohe__Type 2_Flying',\n",
       "       'ohe__Type 2_Ghost', 'ohe__Type 2_Grass', 'ohe__Type 2_Ground',\n",
       "       'ohe__Type 2_Ice', 'ohe__Type 2_None', 'ohe__Type 2_Normal',\n",
       "       'ohe__Type 2_Poison', 'ohe__Type 2_Psychic', 'ohe__Type 2_Rock',\n",
       "       'ohe__Type 2_Steel', 'ohe__Type 2_Water', 'ohe__Generation_1',\n",
       "       'ohe__Generation_2', 'ohe__Generation_3', 'ohe__Generation_4',\n",
       "       'ohe__Generation_5', 'ohe__Generation_6'], dtype=object)"
      ]
     },
     "execution_count": 60,
     "metadata": {},
     "output_type": "execute_result"
    }
   ],
   "source": [
    "feature_names = log_regression_pipeline[:-1].get_feature_names_out()\n",
    "feature_names"
   ]
  },
  {
   "cell_type": "code",
   "execution_count": 61,
   "id": "83798ec0",
   "metadata": {},
   "outputs": [
    {
     "data": {
      "text/plain": [
       "array([1.22551318, 0.89653188, 1.57374264, 1.67627153, 1.65547662,\n",
       "       1.84080292, 0.94624915, 0.25986809, 0.68585847, 0.11630413,\n",
       "       0.43022526, 0.4500593 , 0.65711499, 0.76080481, 0.24546566,\n",
       "       0.01876303, 0.48703045, 0.57124848, 1.49106381, 0.0380164 ,\n",
       "       0.96507891, 0.98551802, 0.61251202, 0.39476167, 0.0048519 ,\n",
       "       0.87830155, 0.93742474, 0.09571495, 0.18817144, 0.40619934,\n",
       "       0.02330947, 1.54507751, 0.31008991, 0.09501045, 1.0890084 ,\n",
       "       0.00702166, 0.97754047, 0.07134063, 0.65161554, 0.11717082,\n",
       "       0.04006538, 0.07752301, 0.56543098, 1.29429936, 0.15439525,\n",
       "       0.08095694, 0.10117062, 0.89823356, 0.36853224])"
      ]
     },
     "execution_count": 61,
     "metadata": {},
     "output_type": "execute_result"
    }
   ],
   "source": [
    "feature_coef = abs(log_regression_pipeline.steps[1][1].coef_[0])\n",
    "feature_coef"
   ]
  },
  {
   "cell_type": "code",
   "execution_count": 62,
   "id": "e3d557dc",
   "metadata": {},
   "outputs": [
    {
     "data": {
      "text/html": [
       "<div>\n",
       "<style scoped>\n",
       "    .dataframe tbody tr th:only-of-type {\n",
       "        vertical-align: middle;\n",
       "    }\n",
       "\n",
       "    .dataframe tbody tr th {\n",
       "        vertical-align: top;\n",
       "    }\n",
       "\n",
       "    .dataframe thead th {\n",
       "        text-align: right;\n",
       "    }\n",
       "</style>\n",
       "<table border=\"1\" class=\"dataframe\">\n",
       "  <thead>\n",
       "    <tr style=\"text-align: right;\">\n",
       "      <th></th>\n",
       "      <th>feature_names</th>\n",
       "      <th>coef</th>\n",
       "    </tr>\n",
       "  </thead>\n",
       "  <tbody>\n",
       "    <tr>\n",
       "      <th>5</th>\n",
       "      <td>scaler__Speed</td>\n",
       "      <td>1.840803</td>\n",
       "    </tr>\n",
       "    <tr>\n",
       "      <th>3</th>\n",
       "      <td>scaler__Sp. Atk</td>\n",
       "      <td>1.676272</td>\n",
       "    </tr>\n",
       "    <tr>\n",
       "      <th>4</th>\n",
       "      <td>scaler__Sp. Def</td>\n",
       "      <td>1.655477</td>\n",
       "    </tr>\n",
       "    <tr>\n",
       "      <th>2</th>\n",
       "      <td>scaler__Defense</td>\n",
       "      <td>1.573743</td>\n",
       "    </tr>\n",
       "    <tr>\n",
       "      <th>31</th>\n",
       "      <td>ohe__Type 2_Flying</td>\n",
       "      <td>1.545078</td>\n",
       "    </tr>\n",
       "  </tbody>\n",
       "</table>\n",
       "</div>"
      ],
      "text/plain": [
       "         feature_names      coef\n",
       "5        scaler__Speed  1.840803\n",
       "3      scaler__Sp. Atk  1.676272\n",
       "4      scaler__Sp. Def  1.655477\n",
       "2      scaler__Defense  1.573743\n",
       "31  ohe__Type 2_Flying  1.545078"
      ]
     },
     "execution_count": 62,
     "metadata": {},
     "output_type": "execute_result"
    }
   ],
   "source": [
    "df = pd.DataFrame({\"feature_names\": feature_names, \"coef\": feature_coef})\n",
    "df.sort_values(by = [\"coef\"], ascending = False).head(5)"
   ]
  },
  {
   "cell_type": "markdown",
   "id": "e1e06c65",
   "metadata": {},
   "source": [
    "Самый весомый вклад у скорости, специальных атак и зациты от специальных атак противника. Помимо защиты также важность имеет способность летать."
   ]
  },
  {
   "cell_type": "markdown",
   "id": "96c048e4-6624-4a94-af92-650d109ac581",
   "metadata": {},
   "source": [
    "### Задание 4. Расскажите о вашей любимой музыкальной группе (исполнителе) (0.5 балла)\n",
    "\n",
    "Расскажите, как вы познакомились с этой группой и скиньте несколько наиболее любимых треков)"
   ]
  },
  {
   "cell_type": "markdown",
   "id": "758540b1",
   "metadata": {},
   "source": [
    "На самом деле я сейчас больше меломан, не могу так сразу назвать группу, которая мне нравится больше всего. \n",
    "Пожалуй это будет Panic! At The Disco. С ними я познакомилась впервые на песне с названием House of Memories, потому что увидела эдит по сериалу, который смотрела под нее. Песня великолепна (сериал тоже), мне нравится плавное акцентирование на приперве и небольшая кульминация сразу после. Да и текст хорош, потому что когда послушаешь песню больше трех раз начинаеш не просто мелодию слышать, а еще и текст осознавать, по крайней мере у меня именно так.\n",
    "Вторая моя любимая песня этой группы High Hopes. У нее совершенно другое настроения, она такая немножко крейзи, но олновременно с этим есть какая то торжественность. В общем, совсем другое настроение, но они обе прекрасны!\n"
   ]
  },
  {
   "cell_type": "markdown",
   "id": "8441428d-5ff4-46e0-927f-47ee935b224d",
   "metadata": {},
   "source": [
    "## Therapy time\n",
    "\n",
    "Напишите здесь ваши впечатления о задании: было ли интересно, было ли слишком легко или наоборот сложно и тд. Также сюда можно написать свои идеи по улучшению заданий, а также предложить данные, на основе которых вы бы хотели построить следующие дз. "
   ]
  },
  {
   "cell_type": "markdown",
   "id": "15a2c8ee-96ac-4967-a9d5-55563826ee1d",
   "metadata": {},
   "source": [
    "**Ваши мысли:**"
   ]
  },
  {
   "cell_type": "markdown",
   "id": "f26f4e37",
   "metadata": {},
   "source": [
    "Это домашнее задание действительно было проще первого, как минимум потому, что большая часть кода заботливо написана))\n",
    "Было интересно (и сложно) разбираться в уже написанном коде, тем не менее задание не было слишком простым. Надеюсь анализ датасета у меня был проведен верно, по крайней мере насколько я знаю порядок должен быть примерно такой.\n",
    "Очень милый датасет по покемонам, я не ценительнь, но знаток)))"
   ]
  }
 ],
 "metadata": {
  "kernelspec": {
   "display_name": "Python 3 (ipykernel)",
   "language": "python",
   "name": "python3"
  },
  "language_info": {
   "codemirror_mode": {
    "name": "ipython",
    "version": 3
   },
   "file_extension": ".py",
   "mimetype": "text/x-python",
   "name": "python",
   "nbconvert_exporter": "python",
   "pygments_lexer": "ipython3",
   "version": "3.10.7"
  }
 },
 "nbformat": 4,
 "nbformat_minor": 5
}
